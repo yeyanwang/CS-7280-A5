{
 "cells": [
  {
   "cell_type": "markdown",
   "id": "ea82c66a",
   "metadata": {},
   "source": [
    "# Assignment 5 <font size=3> Network Modeling, Statistics, and Machine Learning"
   ]
  },
  {
   "cell_type": "markdown",
   "id": "43c935c4-9018-4f13-9eb1-04fbb0724426",
   "metadata": {},
   "source": [
    "Last updated: 2025 07 10"
   ]
  },
  {
   "cell_type": "markdown",
   "id": "ce5227f2-95f7-4015-8795-4be5edaafce1",
   "metadata": {},
   "source": [
    "The objective of this assignment is to experiment with the concepts we covered in Module 5. In particular:"
   ]
  },
  {
   "cell_type": "markdown",
   "id": "62961760-86d8-49ce-9d5c-6d3513562f7d",
   "metadata": {},
   "source": [
    "| Part | Pts | Recency |Title | Related lesson |\n",
    "|------|-----|---------|-------|----------------------|\n",
    "| 1 | 25 | | Structural properties of networks | 12. Network modeling |\n",
    "| 2 | 40 | | Network generation | 12. Network modeling |\n",
    "| 3 | 35 | | Network estimation | 13. Statistical analysis of network data |\n",
    "| 4 | 15 | New | NLP using label propagation | 14. Machine learning in network science |\n",
    "| 5 | 15 | New | NLP using a Graph Attention Network (GAT) | 14. Machine learning in network science |"
   ]
  },
  {
   "cell_type": "markdown",
   "id": "dda2718b-bebe-404c-9a42-d658c9f63df2",
   "metadata": {},
   "source": [
    "### Note : Addition of Graph-Based ML bonus exercises\n",
    "\n",
    "Due to popular demand, we have added graph-based ML exercises to this assignment from previous semesters (Parts 4 and 5)! \n",
    "\n",
    "As we test-drive these out, we are offering students flexability regarding which parts of the assignment they choose to complete. You may notice that there are more than 100 points available for this assignment. The first three Parts alone make up the previous iteration of A5 (from recent semesters) and are worth a combined 100 points. So you could complete Parts 1-3 alone and theoretically score a 100% on the assignment.\n",
    "\n",
    "However, if you want to hedge your bets, you are welcome to complete the new parts 4 and 5 in order to buffer your score.\n",
    "\n",
    "Note that 100 points is the *maximum* number that you may earn on this assignment. Extra points earned beyond that will not apply to any other assignment."
   ]
  },
  {
   "cell_type": "markdown",
   "id": "6a6a3485-a119-481c-b835-d33c769b46e0",
   "metadata": {},
   "source": [
    "### Note : Part connections\n",
    "\n",
    "* Part 2 calls some of the functions from Part 1.\n",
    "* Parts 4 and 5 are *conceptually* linked. Either one *can* be done without doing the other, but there is a pedagogical throughline started in Part 4 that carries into Part 5."
   ]
  },
  {
   "cell_type": "markdown",
   "id": "8ebb32a6-a7a8-4cca-add3-ea070aa367a1",
   "metadata": {},
   "source": [
    "# Imports"
   ]
  },
  {
   "cell_type": "code",
   "execution_count": 1,
   "id": "f4354199",
   "metadata": {},
   "outputs": [],
   "source": [
    "# Previous 7280 modules\n",
    "import copy\n",
    "import math\n",
    "import matplotlib.pyplot as plt\n",
    "import networkx as nx\n",
    "import numpy as np\n",
    "import random\n",
    "import ridgeplot                         # New since A1-A4\n",
    "import scipy as sp\n",
    "import seaborn as sns\n",
    "\n",
    "# NLP data\n",
    "import nlp_data                          # Custom module that holds NLP data (no need to install)\n",
    "\n",
    "# Label propagation ML\n",
    "import sklearn\n",
    "from sklearn.semi_supervised import LabelPropagation\n",
    "from sklearn.feature_extraction.text import TfidfVectorizer\n",
    "\n",
    "# GAT ML\n",
    "import torch                                               # New since A1-A4\n",
    "import torch.nn.functional as F                            # New since A1-A4\n",
    "from torch_geometric.data import Data, DataLoader          # New since A1-A4\n",
    "from torch_geometric.nn import GATConv, global_mean_pool   # New since A1-A4\n",
    "from sklearn.model_selection import train_test_split"
   ]
  },
  {
   "cell_type": "markdown",
   "id": "84d5c458-91f9-4579-b568-b560cd4f102e",
   "metadata": {},
   "source": [
    "# Custom Utility Functions"
   ]
  },
  {
   "cell_type": "markdown",
   "id": "7734564c-d31a-475d-9417-2f821783103f",
   "metadata": {},
   "source": [
    "Put any utitlity functions that you write in this section (before the markdown cell labeled **Part 1**)."
   ]
  },
  {
   "cell_type": "code",
   "execution_count": null,
   "id": "7be5fbc3-7f84-49c1-be19-fafef6f461c8",
   "metadata": {},
   "outputs": [],
   "source": []
  },
  {
   "cell_type": "code",
   "execution_count": null,
   "id": "ffa13741-e916-4d0c-a94a-19617c37e625",
   "metadata": {},
   "outputs": [],
   "source": []
  },
  {
   "cell_type": "code",
   "execution_count": null,
   "id": "5b3c35ef-7b46-416f-87cb-6f77e1d76b50",
   "metadata": {},
   "outputs": [],
   "source": []
  },
  {
   "cell_type": "code",
   "execution_count": null,
   "id": "e5772eb6-b969-4a68-a7b4-4cdb41d6b1c4",
   "metadata": {},
   "outputs": [],
   "source": []
  },
  {
   "cell_type": "code",
   "execution_count": null,
   "id": "5b683703-53e4-440d-9655-7c8bf1c9f4ae",
   "metadata": {},
   "outputs": [],
   "source": []
  },
  {
   "cell_type": "markdown",
   "id": "2f5b5458-4ee7-49b0-9e60-9e0299851aab",
   "metadata": {},
   "source": [
    "# Part 1 <font size=3> [25 pts] Structural properties of a graph"
   ]
  },
  {
   "cell_type": "markdown",
   "id": "3635d578-dafe-4408-984b-b2648c09d6b8",
   "metadata": {},
   "source": [
    "In this part (and the next), we will use an [American college football network](https://figshare.com/articles/dataset/American_College_Football_Network_Files/93179?file=94935). The goal is to show the structural properties of the empirical network."
   ]
  },
  {
   "cell_type": "markdown",
   "id": "fd87e65e-f68f-4b2e-ae9a-13dd03635df7",
   "metadata": {},
   "source": [
    "## 1.0 <font size=3> [0 pts] Setup"
   ]
  },
  {
   "cell_type": "markdown",
   "id": "0bd69e16-b469-486c-be8b-f380d9da563e",
   "metadata": {},
   "source": [
    "Run the cells below to load the network."
   ]
  },
  {
   "cell_type": "code",
   "execution_count": 2,
   "id": "2934dc78-4517-4382-8727-d47931ac8a0b",
   "metadata": {},
   "outputs": [],
   "source": [
    "# Run, but do not modify the contents of this cell\n",
    "def load_football_network() -> nx.Graph:    \n",
    "    G = nx.read_gml(\"data/football.gml\")\n",
    "    return G    "
   ]
  },
  {
   "cell_type": "markdown",
   "id": "8496e74c-3cd9-4abd-9ad6-b61ab68b95eb",
   "metadata": {},
   "source": [
    "**Unit test**\n",
    "\n",
    "Running the cell below should produce the following output:\n",
    "\n",
    "> `Graph with 115 nodes and 613 edges`"
   ]
  },
  {
   "cell_type": "code",
   "execution_count": 3,
   "id": "f77c99a8-5ef6-420e-b0c6-42506c0349eb",
   "metadata": {},
   "outputs": [
    {
     "name": "stdout",
     "output_type": "stream",
     "text": [
      "Graph with 115 nodes and 613 edges\n"
     ]
    }
   ],
   "source": [
    "# Run, but do not modify the contents of this cell\n",
    "G_us_football = load_football_network()\n",
    "print(G_us_football)"
   ]
  },
  {
   "cell_type": "markdown",
   "id": "2c47185c-7232-4ce5-9ad7-4633c61e3765",
   "metadata": {},
   "source": [
    "Run the cells below to load utility functions that you may use in later sub parts."
   ]
  },
  {
   "cell_type": "code",
   "execution_count": 4,
   "id": "63c8de22-a617-4ff6-a489-397e6c102ced",
   "metadata": {},
   "outputs": [],
   "source": [
    "# Utility function\n",
    "def util_community_labels(G, list_of_communities):\n",
    "    G_nodes = list(G.nodes)\n",
    "    \n",
    "    node_community_dict = {}\n",
    "    for idx in range(len(list_of_communities)):\n",
    "        community = list_of_communities[idx]\n",
    "        for node in community:\n",
    "            node_community_dict[node] = idx\n",
    "\n",
    "    labels = []\n",
    "    \n",
    "    for node in G_nodes:\n",
    "        labels.append(node_community_dict[node])\n",
    "    \n",
    "    return labels"
   ]
  },
  {
   "cell_type": "code",
   "execution_count": 5,
   "id": "61cc0f36-b394-43a2-9dd9-b3a424dacc88",
   "metadata": {},
   "outputs": [],
   "source": [
    "# Utility function\n",
    "def util_ground_truth_community_labels(G):\n",
    "    return list((nx.get_node_attributes(G,\"value\")).values())"
   ]
  },
  {
   "cell_type": "code",
   "execution_count": 6,
   "id": "834e749d-eed3-405b-a657-8bcf82749f3b",
   "metadata": {},
   "outputs": [],
   "source": [
    "# Utility function\n",
    "def util_plot_nmi_vs_resolution(resolutions:list, nmis:list) -> None:\n",
    "    plt.plot(resolutions, nmis)\n",
    "    plt.title(\"NMI vs Louvain Resolution in\\nGround Truth vs Louvain communities\")\n",
    "    plt.xlabel(\"Louvain Resolution\")\n",
    "    plt.ylabel(\"NMI score\")\n",
    "    plt.show()"
   ]
  },
  {
   "cell_type": "code",
   "execution_count": 7,
   "id": "46300a04-ad58-4bd0-90be-cce469039301",
   "metadata": {},
   "outputs": [],
   "source": [
    "# Utility function\n",
    "def util_plot_best_partition(G:nx.Graph, partition:list) -> None:\n",
    "    \n",
    "    # Initialize list of nodes of G\n",
    "    G_nodes = list(G.nodes)\n",
    "\n",
    "    # Get ground truth labels\n",
    "    ground_truth_labels = util_ground_truth_community_labels(G)\n",
    "    #indices_comb = list(ground_truth_labels) + [len(ground_truth_labels)]\n",
    "    \n",
    "    # Get community counts\n",
    "    comm_ct_louvain = len(partition)\n",
    "    comm_ct_truth = max(ground_truth_labels)\n",
    "    comm_ct_max = max(comm_ct_louvain, comm_ct_truth)\n",
    "\n",
    "    # Initialize set of possible community colors\n",
    "    palette = sns.color_palette(\"hls\", comm_ct_max)\n",
    "\n",
    "    # Generate dict for louvain communities\n",
    "    louvain_comm_dict = {}\n",
    "    for i in range(len(partition)):\n",
    "        community = partition[i]\n",
    "        for node in community:\n",
    "            louvain_comm_dict[node] = i\n",
    "\n",
    "    # Generate louvain node color list\n",
    "    node_colors_louvain = []\n",
    "    for node in G_nodes:\n",
    "        color_idx = louvain_comm_dict[node]\n",
    "        node_colors_louvain.append(palette[color_idx])\n",
    "\n",
    "    # Generate ground truth node color list\n",
    "    node_colors_truth = []\n",
    "    for comm_idx in util_ground_truth_community_labels(G):\n",
    "        node_colors_truth.append(palette[comm_idx])\n",
    "\n",
    "    plt.figure(figsize=(20,10))\n",
    "    \n",
    "    # Generate spring layout via a fixed seed\n",
    "    pos=nx.spring_layout(G, seed=2, iterations=1000, threshold=1e-100)\n",
    "\n",
    "    # Set title fontsize\n",
    "    title_fontsize = 20\n",
    "    \n",
    "    # Set edge color\n",
    "    edge_color = \"#cccccc\"\n",
    "    \n",
    "    # Create ground truth communities subplot\n",
    "    plt.subplot(121)\n",
    "    nx.draw_networkx(G, pos=pos, node_color=node_colors_truth, edge_color=edge_color, with_labels=False)\n",
    "    plt.title(\"Ground truth\\n\"+str(comm_ct_truth)+\" communities\", fontsize=title_fontsize)\n",
    "\n",
    "    # Create Louvain communities subplot\n",
    "    plt.subplot(122)\n",
    "    nx.draw_networkx(G, pos=pos, node_color=node_colors_louvain, edge_color=edge_color, with_labels=False)\n",
    "    plt.title(\"Louvain\\n\"+str(comm_ct_louvain)+\" communities\", fontsize=title_fontsize)\n",
    "\n",
    "    # Show final figure\n",
    "    plt.show()\n",
    "\n",
    "    return"
   ]
  },
  {
   "cell_type": "code",
   "execution_count": 8,
   "id": "bea96bd2-b28a-4803-a236-5074514e5aa3",
   "metadata": {},
   "outputs": [],
   "source": [
    "# Utility function\n",
    "def util_plot_p_matrix(p:np.ndarray):\n",
    "    plt.imshow(p, cmap='viridis')\n",
    "    plt.title(\"Intercommunity density matrix of\\nBest Louvain community partition\")\n",
    "    plt.xlabel(\"Community ID\")\n",
    "    plt.ylabel(\"Community ID\")\n",
    "    plt.show()"
   ]
  },
  {
   "cell_type": "markdown",
   "id": "efdff87c-7f65-4184-b16e-db13ce8e3897",
   "metadata": {},
   "source": [
    "## 1.1 <font size=3> [5 pts] Descriptive graph statistics"
   ]
  },
  {
   "cell_type": "markdown",
   "id": "a378caa3-f694-4ff2-bf44-4c0d774bcc66",
   "metadata": {},
   "source": [
    "In the body of the function below:\n",
    "1. Compute the following for the parameter graph `G`:\n",
    "    * network diameter,\n",
    "    * characteristic path length (CPL),\n",
    "    * average clustering coefficient,\n",
    "    * transitivity,\n",
    "    * assortativity, and\n",
    "    * degree sequence (a list of all the degrees for each node).\n",
    "1. Return a dictionary of the results with the name of each statistic as the key."
   ]
  },
  {
   "cell_type": "code",
   "execution_count": 9,
   "id": "b72b18fc-a591-4f96-a4e0-53c7c2ab8192",
   "metadata": {},
   "outputs": [],
   "source": [
    "def calculate_graph_statistics(G:nx.Graph) -> dict:\n",
    "    \"\"\"\n",
    "    params\n",
    "        G               NetworkX Graph\n",
    "        \n",
    "    return\n",
    "        graph_stats     dict\n",
    "        \n",
    "    \"\"\"\n",
    "    graph_stats = {\n",
    "        \"assortativity\": nx.degree_pearson_correlation_coefficient(G),\n",
    "        \"average_clustering\": nx.average_clustering(G),\n",
    "        \"CPL\": nx.average_shortest_path_length(G),\n",
    "        \"degree_sequence\": [deg for i, deg in G.degree()],\n",
    "        \"diameter\": nx.diameter(G),\n",
    "        \"transitivity\": nx.transitivity(G),\n",
    "    }\n",
    "\n",
    "    return graph_stats"
   ]
  },
  {
   "cell_type": "markdown",
   "id": "55e390e3-0cdc-4b7e-93ac-b651206ddfc5",
   "metadata": {},
   "source": [
    "**Unit test**\n",
    "\n",
    "Running the cell below should produce the following output:\n",
    "> `-1.0`\n",
    ">\n",
    "> `0.0`\n",
    ">\n",
    "> `1.8`\n",
    ">\n",
    "> `[9, 1, 1, 1, 1, 1, 1, 1, 1, 1]`\n",
    ">\n",
    "> `2`\n",
    ">\n",
    "> `0`"
   ]
  },
  {
   "cell_type": "code",
   "execution_count": 10,
   "id": "cb81fada-15d5-4ac3-8e16-ac980adadd28",
   "metadata": {},
   "outputs": [
    {
     "name": "stdout",
     "output_type": "stream",
     "text": [
      "-1.0\n",
      "0.0\n",
      "1.8\n",
      "[9, 1, 1, 1, 1, 1, 1, 1, 1, 1]\n",
      "2\n",
      "0\n"
     ]
    }
   ],
   "source": [
    "# Run, but do not modify the contents of this cell\n",
    "G_sc = nx.star_graph(9)\n",
    "print(calculate_graph_statistics(G_sc)[\"assortativity\"])\n",
    "print(calculate_graph_statistics(G_sc)[\"average_clustering\"])\n",
    "print(calculate_graph_statistics(G_sc)[\"CPL\"])\n",
    "print(calculate_graph_statistics(G_sc)[\"degree_sequence\"])\n",
    "print(calculate_graph_statistics(G_sc)[\"diameter\"])\n",
    "print(calculate_graph_statistics(G_sc)[\"transitivity\"])"
   ]
  },
  {
   "cell_type": "markdown",
   "id": "fa301ad6-fe79-4f81-b46f-49d810015751",
   "metadata": {},
   "source": [
    "## 1.2 <font size=3> [5 pts] Community assignments and NMI"
   ]
  },
  {
   "cell_type": "markdown",
   "id": "0b506c6f-60de-43c9-931a-8a5b0a033693",
   "metadata": {},
   "source": [
    "In the body of the function below:\n",
    "1. Compute the ground truth community labels of the graph. The ground truth label in the `\"value\"`\n",
    "field associated with each node in the graph.\n",
    "1. Compute an evenly spaced list of `res_ct` different resolution parameters (starting at `res_min` and ending at `res_max`).\n",
    "1. For each resolution:\n",
    "    * Compute the Louvain community labels\n",
    "    * Using [`sklearn.metrics.normalized_mutual_info_score`](https://scikit-learn.org/stable/modules/generated/sklearn.metrics.normalized_mutual_info_score.html), find the NMI between the Louvain and ground truth community labels.\n",
    "    * Store the resolution and nmi in their respective lists\n",
    "1. Return the resolution and nmi lists"
   ]
  },
  {
   "cell_type": "code",
   "execution_count": 11,
   "id": "cdfc5dce-46c3-4d07-a5de-d3baef1d85bb",
   "metadata": {
    "scrolled": true
   },
   "outputs": [],
   "source": [
    "import community as community_louvain\n",
    "def sweep_louvain_resolutions(G:nx.Graph, res_min:int=1, res_max:int=11, res_ct:int=10) -> tuple:\n",
    "    \"\"\"\n",
    "    params\n",
    "        G                  nx.Graph\n",
    "        res_min            int\n",
    "        res_max            int\n",
    "        res_ct             int\n",
    "        \n",
    "    return\n",
    "        resolutions        list[float]\n",
    "        nmis               list[float]\n",
    "    \n",
    "    \"\"\"\n",
    "\n",
    "    resolutions = np.linspace(res_min, res_max, res_ct)\n",
    "    nmis = []\n",
    "    gts = util_ground_truth_community_labels(G)\n",
    "\n",
    "    for r in resolutions:\n",
    "        par = community_louvain.best_partition(G, resolution=r)\n",
    "        comms = {}\n",
    "        for node, c in par.items():\n",
    "            comms.setdefault(c, []).append(node)\n",
    "        lv = util_community_labels(G, list(comms.values()))\n",
    "        nmi = sklearn.metrics.normalized_mutual_info_score(gts, lv)\n",
    "        nmis.append(nmi)\n",
    "\n",
    "    return list(resolutions), nmis"
   ]
  },
  {
   "cell_type": "markdown",
   "id": "d23bdfc4-39c9-4e47-9e68-aa11d6c9c0d4",
   "metadata": {},
   "source": [
    "**Unit test**\n",
    "\n",
    "Running the cell below should produce the following output:\n",
    "\n",
    "> `(between 0.85 to 0.90)`\n",
    "\n",
    "Note that the stochasticity in the Louvain algorithm will carry through to the NMI values. The values listed are approximations."
   ]
  },
  {
   "cell_type": "code",
   "execution_count": 12,
   "id": "ccc316c9-d436-48e5-b154-da385cd4ecb7",
   "metadata": {},
   "outputs": [
    {
     "name": "stdout",
     "output_type": "stream",
     "text": [
      "0.89\n"
     ]
    }
   ],
   "source": [
    "# Run, but do not modify the contents of this cell\n",
    "G_us_football = load_football_network()\n",
    "sweep = sweep_louvain_resolutions(G=G_us_football, res_min=1, res_max=2, res_ct=2)\n",
    "a = round(sweep[1][0],2)\n",
    "print(a)"
   ]
  },
  {
   "cell_type": "markdown",
   "id": "663f1266-db17-4cac-8a3e-b7acc278cac3",
   "metadata": {},
   "source": [
    "## 1.3 <font size=3> [5 pts] Optimize Louvain resolution based on NMI"
   ]
  },
  {
   "cell_type": "markdown",
   "id": "f25b437e-3ab3-4e57-a488-9165a41d6a00",
   "metadata": {},
   "source": [
    "In the body of the function below:\n",
    "1. Return the resolution that provides the largest NMI, along with the list of community lists as provided by the NetworkX function [`community.louvain_communities`](https://networkx.org/documentation/stable/reference/algorithms/generated/networkx.algorithms.community.louvain.louvain_communities.html)."
   ]
  },
  {
   "cell_type": "code",
   "execution_count": 13,
   "id": "7e5c3384-4c09-4e20-9423-909f834c47dd",
   "metadata": {},
   "outputs": [],
   "source": [
    "def calculate_best_partition(G:nx.Graph, resolutions:list, nmis:list) -> tuple:\n",
    "    \"\"\"\n",
    "    params\n",
    "        G                   nx.Graph\n",
    "        resolutions         list[float]\n",
    "        nims                list[float]\n",
    "\n",
    "    return\n",
    "        best_res            float\n",
    "        partition           list[list[str]]\n",
    "    \n",
    "    \"\"\"\n",
    "    \n",
    "    best_res = resolutions[nmis.index(max(nmis))]\n",
    "    partition = nx.community.louvain_communities(G, resolution=best_res, seed=42)\n",
    "    \n",
    "    return best_res, partition"
   ]
  },
  {
   "cell_type": "markdown",
   "id": "645b8bb9-0c9f-47e7-8de4-bcb974dc9c29",
   "metadata": {},
   "source": [
    "**Unit test**\n",
    "\n",
    "Running the cell below should produce the following output:\n",
    "\n",
    "> `best_res        :  1.0`\n",
    ">\n",
    "> `community count :  ~10`"
   ]
  },
  {
   "cell_type": "code",
   "execution_count": 14,
   "id": "388ce80f-1e49-43aa-9817-3c9427f33077",
   "metadata": {},
   "outputs": [
    {
     "name": "stdout",
     "output_type": "stream",
     "text": [
      "best_res        :  1.0\n",
      "community count :  10\n"
     ]
    }
   ],
   "source": [
    "# Run, but do not modify the contents of this cell\n",
    "G_us_football = load_football_network()\n",
    "resolutions, nmis = sweep_louvain_resolutions(G=G_us_football, res_min=1, res_max=1, res_ct=1)\n",
    "best_res, partition = calculate_best_partition(G=G_us_football, resolutions=resolutions, nmis=nmis)\n",
    "print(\"best_res        : \", best_res)\n",
    "print(\"community count : \", len(partition))"
   ]
  },
  {
   "cell_type": "markdown",
   "id": "48174262-5770-4507-b868-3dcbcb019228",
   "metadata": {},
   "source": [
    "## 1.4 <font size=3> [5 pts] Inter-community density"
   ]
  },
  {
   "cell_type": "markdown",
   "id": "189aba5f-4636-43a1-abfb-4508b2ccfcc8",
   "metadata": {},
   "source": [
    "In the body of the function below:\n",
    "1. Compute the intercommunity connection density matrix. This matrix $P$ was described in *L12: Generating Networks with Community Structure*.\n",
    "2. Return the matrix $P$, as well as the sizes of the communities."
   ]
  },
  {
   "cell_type": "code",
   "execution_count": 15,
   "id": "4a07d02b-db61-4d28-b43e-d7b2800ea2cb",
   "metadata": {},
   "outputs": [],
   "source": [
    "def calculate_inter_community_density(G:nx.Graph, partition:list) -> tuple:\n",
    "    \"\"\"\n",
    "    params\n",
    "        G                      nx.Graph\n",
    "        partition              list[list[int]]\n",
    "        \n",
    "    return\n",
    "        p                      np.array\n",
    "        sizes                  list[int]\n",
    "    \n",
    "    \"\"\"\n",
    "\n",
    "    k = len(partition)  \n",
    "    sizes = [len(comm) for comm in partition]\n",
    "    p = np.zeros((k, k))  \n",
    "\n",
    "    comm_sets = [set(comm) for comm in partition]\n",
    "\n",
    "    for i in range(k):\n",
    "        for j in range(k):\n",
    "            nodes_i = comm_sets[i]\n",
    "            nodes_j = comm_sets[j]\n",
    "            if i == j:\n",
    "                subgraph = G.subgraph(nodes_i)\n",
    "                actual_edges = subgraph.number_of_edges()\n",
    "                possible_edges = sizes[i] * (sizes[i] - 1) / 2\n",
    "            else:\n",
    "                actual_edges = 0\n",
    "                for u in nodes_i:\n",
    "                    for v in G[u]:\n",
    "                        if v in nodes_j:\n",
    "                            actual_edges += 1\n",
    "                actual_edges /= 2  \n",
    "                possible_edges = sizes[i] * sizes[j]\n",
    "            \n",
    "            if possible_edges > 0:\n",
    "                p[i, j] = actual_edges / possible_edges\n",
    "            else:\n",
    "                p[i, j] = 0.0\n",
    "    \n",
    "    return p, sizes"
   ]
  },
  {
   "cell_type": "markdown",
   "id": "776b5f4d-dc02-4b9a-8705-008c58cf7206",
   "metadata": {},
   "source": [
    "**Unit test**\n",
    "\n",
    "Running the cell below should produce the following output:\n",
    "\n",
    "> `p.shape : (9,9) or (10,10)`"
   ]
  },
  {
   "cell_type": "code",
   "execution_count": 16,
   "id": "3e5f1e50-7c6b-41bd-8fce-6b2fac494dd5",
   "metadata": {},
   "outputs": [
    {
     "name": "stdout",
     "output_type": "stream",
     "text": [
      "p.shape : (10, 10)\n"
     ]
    }
   ],
   "source": [
    "# Run, but do not modify the contents of this cell\n",
    "G_us_football = load_football_network()\n",
    "resolutions, nmis = sweep_louvain_resolutions(G=G_us_football, res_min=1, res_max=1, res_ct=1)\n",
    "best_res, partition = calculate_best_partition(G=G_us_football, resolutions=resolutions, nmis=nmis)\n",
    "p, sizes = calculate_inter_community_density(G=G_us_football, partition=partition)\n",
    "print(f\"p.shape : {p.shape}\")"
   ]
  },
  {
   "cell_type": "markdown",
   "id": "cd3e926d-223a-4a8b-97c8-517d7ac67dd8",
   "metadata": {},
   "source": [
    "## 1.5 <font size=3> [0 pts] Visualization"
   ]
  },
  {
   "cell_type": "markdown",
   "id": "ad6a1a12-ec59-4b11-9e62-768caa9dfc2b",
   "metadata": {},
   "source": [
    "Run the cells below to visualize:\n",
    "1. NMI vs Louvain resolution. The NMI is calculated between the ground truth and Louvain communities at that resolution.\n",
    "2. A side-by-side comparison of the ground truth communities with the Louvain communities at the best resolution.\n",
    "3. A heatmap of the intercommunity density matrix for the best Louvain community partition."
   ]
  },
  {
   "cell_type": "code",
   "execution_count": 17,
   "id": "f759019c-3eb3-4bf3-82c0-f881a3be907f",
   "metadata": {},
   "outputs": [],
   "source": [
    "# Run, but do not modify the contents of this cell\n",
    "G_us_football = load_football_network()\n",
    "resolutions, nmis = sweep_louvain_resolutions(G_us_football)\n",
    "best_resolution, partition = calculate_best_partition(G_us_football, resolutions, nmis)\n",
    "p, sizes = calculate_inter_community_density(G_us_football, partition)\n",
    "pass"
   ]
  },
  {
   "cell_type": "code",
   "execution_count": 18,
   "id": "4615c4db-80e6-4547-ab39-a74c40ac26eb",
   "metadata": {},
   "outputs": [
    {
     "data": {
      "image/png": "[encoded data removed]",
      "text/plain": [
       "<Figure size 432x288 with 1 Axes>"
      ]
     },
     "metadata": {
      "needs_background": "light"
     },
     "output_type": "display_data"
    }
   ],
   "source": [
    "# Run, but do not modify the contents of this cell\n",
    "util_plot_nmi_vs_resolution(resolutions, nmis)"
   ]
  },
  {
   "cell_type": "code",
   "execution_count": 19,
   "id": "9ce75850-35b5-4549-b9e5-b451024f3cf9",
   "metadata": {},
   "outputs": [
    {
     "data": {
      "image/png": "[encoded data removed]",
      "text/plain": [
       "<Figure size 1440x720 with 2 Axes>"
      ]
     },
     "metadata": {},
     "output_type": "display_data"
    }
   ],
   "source": [
    "# Run, but do not modify the contents of this cell\n",
    "util_plot_best_partition(G_us_football, partition)"
   ]
  },
  {
   "cell_type": "code",
   "execution_count": 20,
   "id": "6a0024e9-5e1a-4339-a871-d98d00ddc92a",
   "metadata": {},
   "outputs": [
    {
     "data": {
      "image/png": "[encoded data removed]",
      "text/plain": [
       "<Figure size 432x288 with 1 Axes>"
      ]
     },
     "metadata": {
      "needs_background": "light"
     },
     "output_type": "display_data"
    }
   ],
   "source": [
    "# Run, but do not modify the contents of this cell\n",
    "util_plot_p_matrix(p)"
   ]
  },
  {
   "cell_type": "markdown",
   "id": "3fe1653e-4f9c-4f8a-abf0-ffe2112c5c3c",
   "metadata": {},
   "source": [
    "## 1.6 <font size=3> [5 pts] Analysis"
   ]
  },
  {
   "cell_type": "markdown",
   "id": "777d2d31-f726-44f9-b682-2fa03c8dfbbe",
   "metadata": {},
   "source": [
    "Use the visualizations above to choose responses below."
   ]
  },
  {
   "cell_type": "markdown",
   "id": "cf38d810-2495-4792-bf7c-8ef151f76285",
   "metadata": {},
   "source": [
    "**Question 1.** How does the resolution impact the NMI?"
   ]
  },
  {
   "cell_type": "code",
   "execution_count": 21,
   "id": "e5ca1f56-2557-4328-8a70-c36ac82c5fd2",
   "metadata": {},
   "outputs": [],
   "source": [
    "def part_1_analysis_q1_response() -> str:\n",
    "    \"\"\"\n",
    "    return\n",
    "                  str        string that best answers the question\n",
    "    \"\"\"\n",
    "\n",
    "    #return \"increasing the resolution decreases the number of communities, which means the lowest resolution always gives the community partition that is most alike the ground truth communities\"\n",
    "    #return \"increasing the resolution decreases the number of communities, which means the highest resolution always gives the community partition that is most alike the ground truth communities\"\n",
    "    #return \"increasing the resolution decreases the number of communities, which means that in a given sweep, there will always be a resolution which gives a minimum NMI that is less than any other NMI found with any other resolution (even resolutions outside the sweep interval)\"\n",
    "    #return \"increasing the resolution increases the number of communities, which means the lowest resolution always gives the community partition that is most alike the ground truth communities\"\n",
    "    #return \"increasing the resolution increases the number of communities, which means the highest resolution always gives the community partition that is most alike the ground truth communities\"\n",
    "    return \"increasing the resolution increases the number of communities, which means that if the parameter values of a Louvain NMI sweep are chosen properly, the NMI will generally increase to a global maximum and then decrease after that\"\n",
    "#     return \"Yo\""
   ]
  },
  {
   "cell_type": "markdown",
   "id": "04255985-0b6e-430c-94d0-458e46628d26",
   "metadata": {},
   "source": [
    "**Question 2.** Is the partition for the best NMI a good match to the ground truth?"
   ]
  },
  {
   "cell_type": "code",
   "execution_count": 22,
   "id": "795f9372-0968-4c5e-bdd3-80a2ce8205bf",
   "metadata": {},
   "outputs": [],
   "source": [
    "def part_1_analysis_q2_response() -> str:\n",
    "    \"\"\"\n",
    "    return\n",
    "                  str        string that best answers the question\n",
    "    \"\"\"\n",
    "\n",
    "    #return \"no, because the node colors in the ground truth diagram don't perfectly match the node colors in the Louvain diagram\"\n",
    "    #return \"no, because the NMI is not very close to 0.0\"\n",
    "    #return \"no, because given the stochasticity of the Louvain algorithm, there are sometimes more Louvain communities than ground truth communities\"\n",
    "    #return \"yes, because the NMI is very close to 1.0\"\n",
    "    #return \"yes, because given the stochasticity of the Louvain algorithm, there are sometimes exactly the same number of Louvain communities as ground truth communities\"\n",
    "    return \"yes, because the NMI is higher than the NMI of the other partitions that were generated\"\n",
    "#     return \"Yo\""
   ]
  },
  {
   "cell_type": "markdown",
   "id": "d20d8e48-8d51-4d9f-8d50-21bcbaca788e",
   "metadata": {},
   "source": [
    "# Part 2 <font size=3> [40 pts] Network generation"
   ]
  },
  {
   "cell_type": "markdown",
   "id": "bce2b4ae-769a-4ed2-a39d-93f7011a79dd",
   "metadata": {},
   "source": [
    "In this part, we  will work with the following network generation algorithms:\n",
    "1. Configuration graph\n",
    "2. Stochastic block matrix\n",
    "3. Heirarchical random graph\n",
    "\n",
    "These algorithms will make use of the statistics that were calculated in the prior part."
   ]
  },
  {
   "cell_type": "markdown",
   "id": "72d7d2f8-6c9c-44ea-bc6a-bbf5a067238b",
   "metadata": {},
   "source": [
    "## 2.1 <font size=3> [8 pts] Generation algorithm : Configuration Graph"
   ]
  },
  {
   "cell_type": "markdown",
   "id": "33fa170d-eb34-4084-b6f3-c3bc0b33de1f",
   "metadata": {},
   "source": [
    "We provide a utility function below."
   ]
  },
  {
   "cell_type": "code",
   "execution_count": 23,
   "id": "3f1ba920-423d-49f2-bdf1-ce3ce62a5dda",
   "metadata": {},
   "outputs": [],
   "source": [
    "# Utility function\n",
    "def util_get_LCC(G:nx.Graph):\n",
    "    LCC = nx.Graph()\n",
    "    components = list(nx.connected_components(G))\n",
    "    largest_comp_size, largest_comp_node_set = 0, []\n",
    "    for component in components:\n",
    "        if len(component) > largest_comp_size:\n",
    "            largest_comp_size = len(component)\n",
    "            largest_comp_node_set = component\n",
    "    for edge in list(G.edges):\n",
    "        if edge[0] in largest_comp_node_set:\n",
    "            LCC.add_edges_from([edge])\n",
    "    return LCC"
   ]
  },
  {
   "cell_type": "markdown",
   "id": "7bbb7cda-47df-4b39-83b0-40ff0e7adbf5",
   "metadata": {},
   "source": [
    "In the body of the function below:\n",
    "1. Use NetworkX's [`configuration_model`](https://networkx.org/documentation/stable/reference/generated/networkx.generators.degree_seq.configuration_model.html) function to generate `n_graphs` number of configruation graphs based on a given degree sequence.\n",
    "2. Return a list of the generated graphs."
   ]
  },
  {
   "cell_type": "code",
   "execution_count": 24,
   "id": "434584d5-f3c7-45a1-9b66-ddd158bb5976",
   "metadata": {},
   "outputs": [],
   "source": [
    "def generate_configuration_graphs(degree_sequence:list, n_graphs:int=100) -> list:\n",
    "    \"\"\"\n",
    "    params\n",
    "        degree_sequence         list[int]\n",
    "        n_graphs                int\n",
    "\n",
    "    return\n",
    "        graphs                  list[nx.Graph]\n",
    "    \n",
    "    \"\"\"\n",
    "\n",
    "    graphs = [util_get_LCC(nx.Graph(nx.configuration_model(degree_sequence))) for i in range(n_graphs)]\n",
    "    return graphs"
   ]
  },
  {
   "cell_type": "markdown",
   "id": "c6315148-8f1c-4096-8d4b-c530b2c99586",
   "metadata": {},
   "source": [
    "## 2.2 <font size=3> [8 pts] Generation algorithm : Stochastic Block Model"
   ]
  },
  {
   "cell_type": "markdown",
   "id": "f61684ad-534e-4644-8886-87f2d2e520b4",
   "metadata": {},
   "source": [
    "In the body of the function below:\n",
    "1. Use NetworkX's [`stochastic_block_model`](https://networkx.org/documentation/stable/reference/generated/networkx.generators.community.stochastic_block_model.html) function to generate `n_graphs` number of stochastic block model graphs based on a given inter-community density matrix $P$.\n",
    "2. Return a list of the generated graphs."
   ]
  },
  {
   "cell_type": "code",
   "execution_count": 25,
   "id": "35b214bc-b795-4370-8cca-890bb67168d7",
   "metadata": {},
   "outputs": [],
   "source": [
    "def generate_sbm_graphs(p:np.ndarray, sizes:list, n_graphs:int=100) -> list:\n",
    "    \"\"\"\n",
    "    params\n",
    "        p          np.ndarray    element (i,j) is the density of edges between community_i and community_j\n",
    "        sizes      list[int]\n",
    "        n_graphs   int\n",
    "    \n",
    "    return\n",
    "        graphs     list[nx.Graph]\n",
    "        \n",
    "    \"\"\"\n",
    "    graphs = [nx.stochastic_block_model(sizes, p.tolist(), seed=None) for i in range(n_graphs)]\n",
    "    return graphs"
   ]
  },
  {
   "cell_type": "markdown",
   "id": "1166e244-f38d-4240-81a2-987678030fca",
   "metadata": {},
   "source": [
    "## 2.3 <font size=3> [8 pts] Generation algorithm : Hierarchical Random Graph"
   ]
  },
  {
   "cell_type": "markdown",
   "id": "158e87fb-d198-476b-b19c-35dd8b44ebcc",
   "metadata": {},
   "source": [
    "Here you will be working with the Hierarchical Random Graphs. Using PyHRG, we have pre-composed a\n",
    "dendrogram fitted on the empirical US football network. This dendogram is drawn from the file `data/football-hrg.gml`. It is formmatted as a directed graph, with edges having a parent node as a source and child node as a target. Note the following:\n",
    "* Each **leaf** node (node with no outgoing edges) in the dendrogram represents a **node in the empirical network**,\n",
    "* Each **non-leaf** node stores **probability** information about its left/right child (“L” / “R”). The L probability is the probability of any two distinct left leaf nodes (leaf nodes found as descendants along the left branch) having an edge between them. Analogously for R."
   ]
  },
  {
   "cell_type": "code",
   "execution_count": 26,
   "id": "856f22d4-4d17-4089-a58d-7f6a1827d564",
   "metadata": {},
   "outputs": [],
   "source": [
    "# Utility function\n",
    "def util_get_root(G:nx.DiGraph):\n",
    "    for node in list(G.nodes):\n",
    "        if len(list(G.predecessors(node))) < 1:\n",
    "            return node"
   ]
  },
  {
   "cell_type": "code",
   "execution_count": 27,
   "id": "07f7c78e-c0cd-4f37-be0b-c2b51d70676c",
   "metadata": {},
   "outputs": [],
   "source": [
    "# Utility function\n",
    "def util_get_lowest_parent(G:nx.DiGraph, leaves=[]):\n",
    "    if len(leaves) > 1:\n",
    "        leafA, leafB = leaves[0], leaves[1]\n",
    "        root = util_get_root(G)\n",
    "        pathA, pathB = nx.shortest_path(G, source=root, target=leafA), nx.shortest_path(G, source=root, target=leafB)\n",
    "        parent_dist, parent = 0, root\n",
    "        for node in pathA:\n",
    "            if node in pathB:\n",
    "                dist = nx.shortest_path_length(G, source=root, target=node)\n",
    "                if dist > parent_dist:\n",
    "                    parent_dist, parent = dist, node\n",
    "        return parent\n",
    "    else:\n",
    "        raise ValueError(\"Too few elements in the leaves parameter\")"
   ]
  },
  {
   "cell_type": "markdown",
   "id": "64e870b0-af7e-4247-8a8f-c3495fe064a1",
   "metadata": {},
   "source": [
    "In the body of the function below:\n",
    "1. For each leaf node $L_A$ (ie, node with no outgoing edges) in the argument dendrogram, construct a dictionary where the keys are all the leaf nodes and the value for each key $L_B$ is the probability found in the node of the dendrogram at the is the nearest common ancestor of $L_A$ and $L_B$.\n",
    "2. Return the dictionary of dictionaries."
   ]
  },
  {
   "cell_type": "code",
   "execution_count": 28,
   "id": "054740bc-7fd6-4d67-bf45-509ba3b32c89",
   "metadata": {},
   "outputs": [],
   "source": [
    "def calculate_edge_probability(dendrogram:nx.DiGraph) -> dict:\n",
    "    \"\"\"\n",
    "    params\n",
    "        dendrogram        nx.DiGraph\n",
    "\n",
    "    return\n",
    "        edge_probs        dict[str, dict[str, float]]    a dictionary of edge probabilities between all pairs of leaf nodes.\n",
    "    \n",
    "    \"\"\"\n",
    "\n",
    "    leaf_nodes = [n for n in dendrogram.nodes if dendrogram.out_degree(n) == 0]\n",
    "    edge_probs = {}\n",
    "\n",
    "    for LA in leaf_nodes:\n",
    "        edge_probs[LA] = {}\n",
    "        for LB in leaf_nodes:\n",
    "            parent = util_get_lowest_parent(dendrogram, [LA, LB])\n",
    "            p = dendrogram.nodes[parent].get('p', 0.0)\n",
    "            edge_probs[LA][LB] = p\n",
    "\n",
    "    return edge_probs"
   ]
  },
  {
   "cell_type": "markdown",
   "id": "0c368923-e601-49f8-96be-d826e24e8c2b",
   "metadata": {},
   "source": [
    "**Unit test**\n",
    "\n",
    "Running the cell below should produce the following output:\n",
    "\n",
    "> `probability between KansasState and California : 0.0476`"
   ]
  },
  {
   "cell_type": "code",
   "execution_count": 29,
   "id": "26d35771-c604-43c8-9c6a-cb0578c582dc",
   "metadata": {},
   "outputs": [
    {
     "name": "stdout",
     "output_type": "stream",
     "text": [
      "probability between KansasState and California : 0.0476\n"
     ]
    }
   ],
   "source": [
    "# Run, but do not modify the contents of this cell\n",
    "G_us_football = load_football_network()\n",
    "G_us_football_nodes = list(G_us_football.nodes)\n",
    "dendrogram = nx.read_gml(\"data/football-hrg.gml\")\n",
    "edge_probs = calculate_edge_probability(dendrogram)\n",
    "prob = edge_probs['KansasState']['California']\n",
    "print(f\"probability between KansasState and California : {prob:.4f}\")"
   ]
  },
  {
   "cell_type": "markdown",
   "id": "bd82a79f-36c5-496e-9191-b0f0530e1df3",
   "metadata": {},
   "source": [
    "In the body of the function below:\n",
    "1. Generate a random graph based on the edge probabilities. That is, for each pair of distinct nodes, generate an edge with probability p from `edge_probs` associated to that node pair.\n",
    "2. Return the generated graph."
   ]
  },
  {
   "cell_type": "code",
   "execution_count": 30,
   "id": "320f0854-2722-4ba5-ab3b-e85913d69fe0",
   "metadata": {},
   "outputs": [],
   "source": [
    "def generate_graph_from_prob(edge_probs:dict) -> nx.Graph:\n",
    "    \"\"\"\n",
    "    params\n",
    "        edge_probs        dict[str, dict[str, float]]    a dictionary of edge probabilities between all pairs of leaf nodes.\n",
    "\n",
    "    return\n",
    "        H                 nx.Graph\n",
    "    \n",
    "    \"\"\"\n",
    "\n",
    "    H = nx.Graph()\n",
    "    nodes = list(edge_probs.keys())\n",
    "    H.add_nodes_from(nodes)\n",
    "\n",
    "    for i in range(len(nodes)):\n",
    "        for j in range(i + 1, len(nodes)):\n",
    "            u, v = nodes[i], nodes[j]\n",
    "            p = edge_probs[u][v]\n",
    "            if random.random() < p:\n",
    "                H.add_edge(u, v)\n",
    "\n",
    "    return H"
   ]
  },
  {
   "cell_type": "markdown",
   "id": "9273f68b-bfb6-4801-b7b2-33aff036dfba",
   "metadata": {},
   "source": [
    "In the body of the function below:\n",
    "1. Generate `n_graph` number of random graphs using the function `generate_graph_from_prob`.\n",
    "2. Return a list of the generated graphs."
   ]
  },
  {
   "cell_type": "code",
   "execution_count": 31,
   "id": "c4475541-dad0-48c0-94df-b059e08125e4",
   "metadata": {},
   "outputs": [],
   "source": [
    "def generate_hrg_graphs(edge_probs:dict, n_graphs:int=100) -> list:\n",
    "    \"\"\"\n",
    "    params\n",
    "        edge_probs          dict[str, dict[str, float]]    a dictionary of edge probabilities between all pairs of leaf nodes.\n",
    "        n_graphs            int\n",
    "\n",
    "    return\n",
    "        graphs              list[nx.Graph]\n",
    "    \n",
    "    \"\"\"\n",
    "\n",
    "    graphs = [generate_graph_from_prob(edge_probs) for i in range(n_graphs)]\n",
    "    return graphs"
   ]
  },
  {
   "cell_type": "markdown",
   "id": "04a3820d-eb8a-4ccb-babd-4122a43adee4",
   "metadata": {},
   "source": [
    "## 2.4 <font size=3> [8 pts] Network statistics"
   ]
  },
  {
   "cell_type": "markdown",
   "id": "ec464b7e-4503-4bb5-8741-db4fa4a9e5be",
   "metadata": {},
   "source": [
    "We provide a utility function below."
   ]
  },
  {
   "cell_type": "code",
   "execution_count": 32,
   "id": "b7c1372b-2152-4347-a0d5-7a60606ce8ce",
   "metadata": {},
   "outputs": [],
   "source": [
    "# Utility function\n",
    "def util_get_LCC(G:nx.Graph):\n",
    "    LCC = nx.Graph()\n",
    "    components = list(nx.connected_components(G))\n",
    "    largest_comp_size, largest_comp_node_set = 0, []\n",
    "    for component in components:\n",
    "        if len(component) > largest_comp_size:\n",
    "            largest_comp_size = len(component)\n",
    "            largest_comp_node_set = component\n",
    "    for edge in list(G.edges):\n",
    "        if edge[0] in largest_comp_node_set:\n",
    "            LCC.add_edges_from([edge])\n",
    "    return LCC"
   ]
  },
  {
   "cell_type": "markdown",
   "id": "eb40b708-4ce5-4bdb-b7c4-2cda2d4ac26d",
   "metadata": {},
   "source": [
    "In the body of the function below:\n",
    "1. Complete the calculate_generated_statistic function to calculate the network diameter, CPL, average clustering coefficient, transitivity, and assortativity for each graph in a list of graphs.\n",
    "2. Format the return as a dictionary where the key is a string describing the property and the value is a list of the result for each of the graphs in the list. Note if any of your graphs are not connected, you may use the `util_get_LCC` utility function to find the LCC of the graph and find the statistics for that graph."
   ]
  },
  {
   "cell_type": "code",
   "execution_count": 33,
   "id": "4fb1d1f7-e0ea-4e42-b5bd-519b3c439d08",
   "metadata": {},
   "outputs": [],
   "source": [
    "def calculate_generated_statistics(graphs:list) -> dict:\n",
    "    \"\"\"\n",
    "    params\n",
    "        graphs                 list[nx.Graph]\n",
    "\n",
    "    return\n",
    "        graph_statistics       dict[str, list]\n",
    "    \n",
    "    \"\"\"\n",
    "\n",
    "    graph_statistics = {\n",
    "        \"diameter\" : [],\n",
    "        \"CPL\" : [],\n",
    "        \"average_clustering\" : [],\n",
    "        \"transitivity\" : [],\n",
    "        \"assortativity\" : []\n",
    "    }\n",
    "    \n",
    "    for G in graphs:\n",
    "        Gc = G if nx.is_connected(G) else util_get_LCC(G)\n",
    "\n",
    "        graph_statistics[\"diameter\"].append(nx.diameter(Gc))\n",
    "        graph_statistics[\"CPL\"].append(nx.average_shortest_path_length(Gc))\n",
    "        graph_statistics[\"average_clustering\"].append(nx.average_clustering(Gc))\n",
    "        graph_statistics[\"transitivity\"].append(nx.transitivity(Gc))\n",
    "        graph_statistics[\"assortativity\"].append(nx.degree_assortativity_coefficient(Gc))\n",
    "\n",
    "    return graph_statistics"
   ]
  },
  {
   "cell_type": "markdown",
   "id": "8a8b9eb9-419a-472f-8d96-a867ec3c7acf",
   "metadata": {},
   "source": [
    "## 2.5 <font size=3> [0 pts] Visualization"
   ]
  },
  {
   "cell_type": "markdown",
   "id": "f3e5356a-8701-4864-8464-67ca0791debe",
   "metadata": {},
   "source": [
    "Run the cells below to see the following visualizations:\n",
    "1. A set of three bar plot sets, one for each generation algorithm.\n",
    "2. A set of five bar plot sets, one for each network statistic.\n",
    "\n",
    "Use these visualizations to answer the analysis questions below."
   ]
  },
  {
   "cell_type": "code",
   "execution_count": 34,
   "id": "dc577ac7-f191-46ac-907a-62572e0a91c0",
   "metadata": {},
   "outputs": [],
   "source": [
    "def util_plot_graph_statistics(graph_statistics:list) -> None:\n",
    "\n",
    "    stats = list(graph_statistics[1].keys())\n",
    "\n",
    "    title_dict = {1 : \"Configuration Model\", 2 : \"Stochastic Block Model\", 3 : \"Hierarchical Random Graph\"}\n",
    "\n",
    "    # Organized as generation method --> stat\n",
    "    plt.figure(figsize=(20,4))\n",
    "    for i in range(1,4):\n",
    "        plt.subplot(151 + i)\n",
    "        plt.boxplot(graph_statistics[i].values(), labels=graph_statistics[i].keys())\n",
    "        for j in range(len(stats)):\n",
    "            stat = stats[j]\n",
    "            plt.plot(j+1, graph_statistics[0][stat], marker='*', markersize=10, label=\"Empirical value\")\n",
    "        plt.title(title_dict[i])\n",
    "        plt.xticks(rotation=90)\n",
    "    plt.legend()\n",
    "\n",
    "    plt.show()\n",
    "    \n",
    "    # Organized as stat --> generation method\n",
    "    stat_dict_emp, stat_dict_config, stat_dict_sbm, stat_dict_hrg = graph_statistics\n",
    "    plt.figure(figsize=(20,5))\n",
    "    for i in range(len(stats)):\n",
    "        stat = stats[i]\n",
    "        data_config, data_sbm, data_hrg = stat_dict_config[stat], stat_dict_sbm[stat], stat_dict_hrg[stat]\n",
    "        data_dict = {'Config' : data_config, 'SBM' : data_sbm, 'HRG' : data_hrg}\n",
    "        plt.subplot(150 + i + 1)\n",
    "        plt.boxplot(data_dict.values(), labels=data_dict.keys())\n",
    "        plt.plot(4.0, stat_dict_emp[stat], marker='*', markersize=20)\n",
    "\n",
    "        # Add ground truth value onto plot\n",
    "        \n",
    "        plt.title(stat)\n",
    "\n",
    "    plt.show()"
   ]
  },
  {
   "cell_type": "code",
   "execution_count": 35,
   "id": "c0762766-fdfe-4334-bb23-ded463af6321",
   "metadata": {},
   "outputs": [],
   "source": [
    "# Run, but do not modify the contents of this cell\n",
    "G = load_football_network()\n",
    "\n",
    "graph_stats = calculate_graph_statistics(G)\n",
    "\n",
    "# Configuration Model\n",
    "config_graphs = generate_configuration_graphs(graph_stats['degree_sequence'])\n",
    "\n",
    "# Stochastic Block Model\n",
    "resolutions, nmis = sweep_louvain_resolutions(G)\n",
    "best_resolution, partition = calculate_best_partition(G, resolutions, nmis)\n",
    "p, sizes = calculate_inter_community_density(G, partition)\n",
    "sbm_graphs = generate_sbm_graphs(p, sizes)\n",
    "\n",
    "# Hierarchical Random Graph Model\n",
    "dendrogram = nx.read_gml(\"data/football-hrg.gml\")\n",
    "edge_probs = calculate_edge_probability(dendrogram)\n",
    "hrg_graphs = generate_hrg_graphs(edge_probs)\n",
    "\n",
    "# Calculating network characteristic statistics\n",
    "config_stats = calculate_generated_statistics(config_graphs)\n",
    "sbm_stats = calculate_generated_statistics(sbm_graphs)\n",
    "hrg_stats = calculate_generated_statistics(hrg_graphs)"
   ]
  },
  {
   "cell_type": "code",
   "execution_count": 36,
   "id": "63add45c-c41e-4169-902a-03a9d1d80a03",
   "metadata": {},
   "outputs": [
    {
     "data": {
      "image/png": "[encoded data removed]",
      "text/plain": [
       "<Figure size 1440x288 with 3 Axes>"
      ]
     },
     "metadata": {
      "needs_background": "light"
     },
     "output_type": "display_data"
    },
    {
     "data": {
      "image/png": "[encoded data removed]",
      "text/plain": [
       "<Figure size 1440x360 with 5 Axes>"
      ]
     },
     "metadata": {
      "needs_background": "light"
     },
     "output_type": "display_data"
    }
   ],
   "source": [
    "# Run, but do not modify the contents of this cell\n",
    "util_plot_graph_statistics([graph_stats, config_stats, sbm_stats, hrg_stats])"
   ]
  },
  {
   "cell_type": "markdown",
   "id": "f04374dd-68f0-42a7-9c9d-c55944ca7024",
   "metadata": {},
   "source": [
    "## 2.6 <font size=3> [8 pts] Analysis"
   ]
  },
  {
   "cell_type": "markdown",
   "id": "ef738add-ebb2-4500-a3a9-57cd9da68338",
   "metadata": {},
   "source": [
    "Use the visualizations above to answer the questions below."
   ]
  },
  {
   "cell_type": "markdown",
   "id": "bbdeed6e-1383-4af9-9bf2-879623a9a8f9",
   "metadata": {},
   "source": [
    "**Question 1.** Which graph generator algorithm would you say best captures the structure of the empirical network *overall*?"
   ]
  },
  {
   "cell_type": "code",
   "execution_count": 37,
   "id": "bb0d1742-c316-4e07-b4ed-f172e9d6e60c",
   "metadata": {},
   "outputs": [],
   "source": [
    "def part_2_analysis_q1_response() -> str:\n",
    "    \"\"\"\n",
    "    return\n",
    "                  str        string that best answers the question\n",
    "    \"\"\"\n",
    "    #return \"There is a strong argument to made for each of the generation algorithms.\"\n",
    "    #return \"They are all terrible. Why did you make me do this?\"\n",
    "    #return \"I have no opinion.\"\n",
    "    #return \"The configuration model algorithm because there is no variance among the graphs it produces for any of the statistics\"\n",
    "    #return \"The stochastic block matrix algorithm because there is no variance among the graphs it produces for any of the statistics\"\n",
    "    return \"The hierarchical random graph algorithm because there is no variance among the graphs it produces for any of the statistics\"\n",
    "#     return \"Yo\""
   ]
  },
  {
   "cell_type": "markdown",
   "id": "6b0e9b76-cd2f-4e29-b8fd-a9051c7a7e5e",
   "metadata": {},
   "source": [
    "**Question 2.** Which of the following statements do you think is the most true?"
   ]
  },
  {
   "cell_type": "code",
   "execution_count": 38,
   "id": "24e0eef9-63c7-4811-b258-b74d6ae78333",
   "metadata": {},
   "outputs": [],
   "source": [
    "def part_2_analysis_q2_response() -> str:\n",
    "    \"\"\"\n",
    "    return\n",
    "                  str        string that best answers the question\n",
    "    \"\"\"\n",
    "    #return \"The three algorithms seem to have the most difficulty capturing the diameter of the empirical network\"\n",
    "    #return \"The three algorithms seem to have the most difficulty capturing the CPL of the empirical network\"\n",
    "    #return \"The three algorithms seem to have the most difficulty capturing the average clustering of the empirical network\"\n",
    "    #return \"The three algorithms seem to have the most difficulty capturing the transitivity of the empirical network\"\n",
    "    return \"The three algorithms seem to have the most difficulty capturing the assortativity of the empirical network\"\n",
    "#     return \"Yo\""
   ]
  },
  {
   "cell_type": "markdown",
   "id": "762bdad8-7df3-4ccc-9078-816ecd44a928",
   "metadata": {},
   "source": [
    "# Part 3 <font size=3> [35 pts] Network estimation"
   ]
  },
  {
   "cell_type": "markdown",
   "id": "e86c3685-c360-4517-a0a9-76f2c9158b20",
   "metadata": {},
   "source": [
    "This part will use a [mouse brain network](https://networkrepository.com/bn-mouse-brain-1.php). Run the cells below."
   ]
  },
  {
   "cell_type": "code",
   "execution_count": 39,
   "id": "e0e26fa0-06fc-4422-afd5-401407beba3a",
   "metadata": {},
   "outputs": [],
   "source": [
    "# Run, but do not modify the contents of this cell\n",
    "def load_mouse_brain_network() -> nx.Graph:\n",
    "    G = nx.read_edgelist(\"data/mouse_brain_data.txt\", create_using=nx.Graph)\n",
    "    G.remove_edges_from(nx.selfloop_edges(G))\n",
    "    return G"
   ]
  },
  {
   "cell_type": "markdown",
   "id": "f719376c-2fac-4dd9-bf28-25bf91e87ee2",
   "metadata": {},
   "source": [
    "**Unit test**\n",
    "\n",
    "Running the cell below should show the following output:\n",
    "\n",
    "> Graph with 213 nodes and 16089 edges"
   ]
  },
  {
   "cell_type": "code",
   "execution_count": 40,
   "id": "c7406601-2424-4f54-8821-6df5fa41b06b",
   "metadata": {},
   "outputs": [
    {
     "name": "stdout",
     "output_type": "stream",
     "text": [
      "Graph with 213 nodes and 16089 edges\n"
     ]
    }
   ],
   "source": [
    "# Run, but do not modify the contents of this cell\n",
    "G_mouse_brain = load_mouse_brain_network()\n",
    "print(G_mouse_brain)"
   ]
  },
  {
   "cell_type": "markdown",
   "id": "62049d6a-d852-4472-8c35-f0a52d3fee08",
   "metadata": {},
   "source": [
    "## 3.1 <font size=3> [10 pts] Estimate node count"
   ]
  },
  {
   "cell_type": "markdown",
   "id": "f896f3d5-72ec-4d43-b64e-30a7a63573c6",
   "metadata": {},
   "source": [
    "In the body of the function below:\n",
    "1. Implement the capture-recapture estimation method to compute the number of nodes in the network by randomly choosing samples of the sizes indicated in `sample_sizes`. Recall that the capture-recapture method involves computing two samples $n_1, n_2$ and using their intersection $n_3$ to perform the estimation.\n",
    "2. For each size in `sample_sizes`, repeat the experiment `n_iter` times.\n",
    "3. Store your results in a dictionary where the key is the sample size and the value is a list of the estimated network sizes for each trial. If the size of the $n_3$ set is 0, you can skip that iteration."
   ]
  },
  {
   "cell_type": "code",
   "execution_count": 41,
   "id": "5c224ad7-074e-4633-aba7-7404ed7ba594",
   "metadata": {},
   "outputs": [],
   "source": [
    "def estimate_network_size(G, sample_sizes:list=[5, 10, 50, 100], n_iter:int=100) -> dict:\n",
    "    \"\"\"\n",
    "    params\n",
    "        G                    nx.Graph\n",
    "        sample_sizes         list[int]\n",
    "        n_iter               int\n",
    "        \n",
    "    return\n",
    "        results              Dict[str, List[int]]    a dictionary where key is the sample size and the value is a list of the estimated network sizes for each trial\n",
    "    \n",
    "        \n",
    "    \"\"\"\n",
    "\n",
    "    nodes = list(G.nodes())\n",
    "    results = {}\n",
    "\n",
    "    for s in sample_sizes:\n",
    "        ests = []\n",
    "        for i in range(n_iter):\n",
    "            s1 = set(random.sample(nodes, s))\n",
    "            s2 = set(random.sample(nodes, s))\n",
    "            inter = len(s1 & s2)\n",
    "            if inter != 0:\n",
    "                est = (len(s1) * len(s2)) / inter\n",
    "                ests.append(int(est))\n",
    "        results[s] = ests\n",
    "    \n",
    "    return results"
   ]
  },
  {
   "cell_type": "markdown",
   "id": "280e1234-ffb3-427e-bd57-e7ac7557a4fa",
   "metadata": {},
   "source": [
    "**Unit test**\n",
    "\n",
    "Running the cell below should produce the following output:\n",
    "\n",
    "> `(in the range of 200-240)`"
   ]
  },
  {
   "cell_type": "code",
   "execution_count": 42,
   "id": "bbd604f7-19d5-4fdf-bd8c-ee54cc2d826f",
   "metadata": {},
   "outputs": [
    {
     "name": "stdout",
     "output_type": "stream",
     "text": [
      "220\n"
     ]
    }
   ],
   "source": [
    "# Run, but do not modify the contents of this cell\n",
    "sample_size = 50\n",
    "results = estimate_network_size(G=G_mouse_brain, sample_sizes=[sample_size], n_iter=100)\n",
    "avg = np.mean(results[sample_size])\n",
    "print(f\"{avg:.0f}\")"
   ]
  },
  {
   "cell_type": "markdown",
   "id": "321894c8-2820-4974-a9ce-afb1846bb237",
   "metadata": {},
   "source": [
    "## 3.2 <font size=3> [10 pts] Estimate edge count"
   ]
  },
  {
   "cell_type": "markdown",
   "id": "ea358302-636a-49f7-8150-ce934b4af1e3",
   "metadata": {},
   "source": [
    "In the body of the function below:\n",
    "1. Estimate the number of edges using the induced subgraph sampling and Horvitz-Thompson estimator by sampling `n_sample` nodes in the network. Repeat this `n_iter` times.\n",
    "2. Save the resulting edge count estimates in a list and return it."
   ]
  },
  {
   "cell_type": "code",
   "execution_count": 43,
   "id": "13d000b5-b47a-46d7-a125-0f0162a21bf2",
   "metadata": {},
   "outputs": [],
   "source": [
    "def estimate_edges(G:nx.Graph, n_sample:int=50, n_iter:int=100) -> list:\n",
    "    \"\"\"\n",
    "    params\n",
    "        G                      nx.Graph\n",
    "        n_sample               int\n",
    "        n_iter                 int\n",
    "        \n",
    "    return\n",
    "        estimated_edges        list[int]        a list of estimated edges\n",
    "    \"\"\"\n",
    "    edges = list(G.edges())\n",
    "    M = len(edges)\n",
    "    estimated_edges = []\n",
    "\n",
    "    for i in range(n_iter):\n",
    "        sampled_edges = random.sample(edges, min(n_sample, M))\n",
    "        p = len(sampled_edges) / M\n",
    "        est = len(sampled_edges) / p\n",
    "        estimated_edges.append(int(est))\n",
    "\n",
    "    return estimated_edges"
   ]
  },
  {
   "cell_type": "markdown",
   "id": "e435809a-9707-493a-b7f2-83fba5013574",
   "metadata": {},
   "source": [
    "**Unit test**\n",
    "\n",
    "Running the cell below should produce the following output:\n",
    "\n",
    "> `(anywhere from 24000 up to 42000)`"
   ]
  },
  {
   "cell_type": "code",
   "execution_count": 44,
   "id": "dc4a2291-6e3c-402d-b480-cd9193694ad6",
   "metadata": {},
   "outputs": [
    {
     "name": "stdout",
     "output_type": "stream",
     "text": [
      "16089\n"
     ]
    }
   ],
   "source": [
    "# Run, but do not modify the contents of this cell\n",
    "n_sample = 25\n",
    "estimated_edges = estimate_edges(G=G_mouse_brain, n_sample=n_sample, n_iter=100)\n",
    "avg = np.mean(estimated_edges)\n",
    "print(f\"{avg:.0f}\")"
   ]
  },
  {
   "cell_type": "markdown",
   "id": "b26e47cb-fe9b-4429-83d8-6a122eb8adeb",
   "metadata": {},
   "source": [
    "## 3.3 <font size=3> [0 pts] Visualizations"
   ]
  },
  {
   "cell_type": "markdown",
   "id": "6bb99eaf-f9f1-4c5b-8fc0-5754b707867f",
   "metadata": {},
   "source": [
    "Run the cells immediately below to load utility functions for visualization."
   ]
  },
  {
   "cell_type": "code",
   "execution_count": 45,
   "id": "ae02dd5c-3fe6-417a-bcd0-a7d693b694ed",
   "metadata": {},
   "outputs": [],
   "source": [
    "# Run, but do not modify the contents of this cell\n",
    "def util_plot_histos_as_ridge(data:list) -> None:\n",
    "    data = [np.array(sublist) for sublist in data]\n",
    "    fig = ridgeplot.ridgeplot(\n",
    "        samples=data,\n",
    "        nbins=10,\n",
    "    )\n",
    "    fig.update_layout(\n",
    "        title=\"Distributions of estimated network size\\nbased on sample size\",\n",
    "        xaxis_title=\"Network size estimation\",\n",
    "        yaxis_title=\"Sample size\",\n",
    "    )\n",
    "    fig.show()\n",
    "    \n",
    "    return"
   ]
  },
  {
   "cell_type": "code",
   "execution_count": 46,
   "id": "a4e2af44-faaa-4de7-bc95-06eea2cbd827",
   "metadata": {},
   "outputs": [],
   "source": [
    "# Run, but do not modify the contents of this cell\n",
    "def util_plot_sample_size_error(\n",
    "    results:dict, \n",
    "    true_size:int,\n",
    "    sample_sizes:list=[5, 10, 25, 50, 100]\n",
    ") -> None:\n",
    "    means = []\n",
    "    sdevs = []\n",
    "    for sample_size in results:\n",
    "        data = results[sample_size]\n",
    "        mean, sdev = np.mean(data), np.std(data)\n",
    "        means.append(mean)\n",
    "        sdevs.append(sdev)\n",
    "\n",
    "    print(\"util_plot_sample_size_error : len(sample_sizes) : \", len(sample_sizes))\n",
    "    print(\"util_plot_sample_size_error : len(sample_sizes) : \", len(means))\n",
    "    \n",
    "    plt.errorbar(x=sample_sizes, y=means, yerr=sdevs, ecolor=\"#ff0000\", label=\"Estimated size mean\")\n",
    "    plt.hlines(y=true_size, xmin=sample_sizes[0]-10, xmax=sample_sizes[-1]+10, colors=\"#d1ac3d\", label=\"Actual size\")\n",
    "    plt.xlabel(\"Sample Size\")\n",
    "    plt.ylabel(\"Node Count\")\n",
    "    plt.title(\"Estimated Node Count Means and Error\")\n",
    "    plt.legend()\n",
    "    plt.show()"
   ]
  },
  {
   "cell_type": "markdown",
   "id": "52df8e77-97ae-4a4e-b3cf-d0166117e7f7",
   "metadata": {},
   "source": [
    "Run the cell immediately below to run the functional tools developed above and collect sample data."
   ]
  },
  {
   "cell_type": "code",
   "execution_count": 47,
   "id": "aa314861-4581-4831-a775-f0c7323f5df9",
   "metadata": {},
   "outputs": [],
   "source": [
    "# Run, but do not modify the contents of this cell\n",
    "\n",
    "# Load mouse brain network\n",
    "G_mouse_brain = load_mouse_brain_network()\n",
    "\n",
    "# Setup parameters\n",
    "n_iter=100\n",
    "sample_sizes=[5*i for i in range(1,40)]\n",
    "\n",
    "# Estimate node count\n",
    "network_size_estimates = estimate_network_size(G=G_mouse_brain, sample_sizes=sample_sizes, n_iter=n_iter)"
   ]
  },
  {
   "cell_type": "markdown",
   "id": "f32f38b4-3868-4146-ace5-1826ce080981",
   "metadata": {},
   "source": [
    "Run the cells below to see the following visualizations:\n",
    "1. A ridge plot of network size estimate *distributions*, based on sample size,\n",
    "2. A plot of network size *error* estimates, based on sample size."
   ]
  },
  {
   "cell_type": "code",
   "execution_count": 48,
   "id": "1edb53b0-a34f-4d2f-8979-5bfb17b9a52e",
   "metadata": {},
   "outputs": [
    {
     "data": {
      "application/vnd.plotly.v1+json": {
       "config": {
        "plotlyServerURL": "https://plot.ly"
       },
       "data": [
        {
         "base": 0,
         "customdata": [
          [
           18
          ],
          [
           20
          ],
          [
           22
          ],
          [
           0
          ],
          [
           25
          ],
          [
           0
          ],
          [
           0
          ],
          [
           0
          ],
          [
           0
          ],
          [
           11
          ]
         ],
         "hovertemplate": "(%{x:.7}, %{customdata[0]:.7})<br><extra>%{fullData.name}</extra>",
         "marker": {
          "color": [
           "rgb(13, 8, 135)",
           "rgb(70.0, 3.0, 159.0)",
           "rgb(114.0, 1.0, 168.0)",
           "rgb(156.0, 23.0, 158.0)",
           "rgb(189.0, 55.0, 134.0)",
           "rgb(216.0, 87.0, 107.0)",
           "rgb(237.0, 121.0, 83.0)",
           "rgb(251.0, 159.0, 58.0)",
           "rgb(253.0, 202.0, 38.0)",
           "rgb(240, 249, 33)"
          ],
          "line": {
           "color": "black",
           "width": 0.5
          }
         },
         "name": "Trace 1",
         "type": "bar",
         "x": [
          89,
          142.6,
          196.2,
          249.8,
          303.4,
          357,
          410.6,
          464.2,
          517.8,
          571.4000000000001
         ],
         "y": [
          18,
          20,
          22,
          0,
          25,
          0,
          0,
          0,
          0,
          11
         ],
         "zorder": 0
        },
        {
         "base": -17,
         "customdata": [
          [
           13
          ],
          [
           34
          ],
          [
           18
          ],
          [
           15
          ],
          [
           9
          ],
          [
           0
          ],
          [
           8
          ],
          [
           2
          ],
          [
           0
          ],
          [
           1
          ]
         ],
         "hovertemplate": "(%{x:.7}, %{customdata[0]:.7})<br><extra>%{fullData.name}</extra>",
         "marker": {
          "color": [
           "rgb(65.10821, 3.4291, 156.9403)",
           "rgb(95.9403, 1.8209, 164.30597)",
           "rgb(125.12687, 6.82836, 165.35075)",
           "rgb(153.49254, 21.68657, 158.59701)",
           "rgb(176.31716, 42.70149, 143.22388)",
           "rgb(196.85821, 64.31343, 126.14179)",
           "rgb(215.09328, 85.92537, 107.90672)",
           "rgb(229.47761, 108.8209, 91.59701)",
           "rgb(241.4403, 133.05224, 75.0709)",
           "rgb(250.89552, 158.71642, 58.18657)"
          ],
          "line": {
           "color": "black",
           "width": 0.5
          }
         },
         "name": "Trace 2",
         "type": "bar",
         "x": [
          138,
          174.2,
          210.4,
          246.60000000000002,
          282.8,
          319,
          355.20000000000005,
          391.40000000000003,
          427.6,
          463.8
         ],
         "y": [
          13,
          34,
          18,
          15,
          9,
          0,
          8,
          2,
          0,
          1
         ],
         "zorder": 1
        },
        {
         "base": -34,
         "customdata": [
          [
           13
          ],
          [
           14
          ],
          [
           8
          ],
          [
           29
          ],
          [
           9
          ],
          [
           15
          ],
          [
           8
          ],
          [
           1
          ],
          [
           2
          ],
          [
           1
          ]
         ],
         "hovertemplate": "(%{x:.7}, %{customdata[0]:.7})<br><extra>%{fullData.name}</extra>",
         "marker": {
          "color": [
           "rgb(92.49254, 1.97761, 163.60075)",
           "rgb(102.83582, 1.50746, 165.71642)",
           "rgb(113.1791, 1.03731, 167.83209)",
           "rgb(123.08955, 5.76119, 165.83582)",
           "rgb(132.96269, 10.93284, 163.48507)",
           "rgb(142.83582, 16.10448, 161.13433)",
           "rgb(152.70896, 21.27612, 158.78358)",
           "rgb(161.17164, 28.01493, 154.23881)",
           "rgb(168.9291, 35.53731, 148.59701)",
           "rgb(176.68657, 43.0597, 142.95522)"
          ],
          "line": {
           "color": "black",
           "width": 0.5
          }
         },
         "name": "Trace 3",
         "type": "bar",
         "x": [
          170,
          182.6,
          195.2,
          207.8,
          220.4,
          233,
          245.6,
          258.2,
          270.8,
          283.4
         ],
         "y": [
          13,
          14,
          8,
          29,
          9,
          15,
          8,
          1,
          2,
          1
         ],
         "zorder": 2
        },
        {
         "base": -51,
         "customdata": [
          [
           1
          ],
          [
           10
          ],
          [
           19
          ],
          [
           18
          ],
          [
           20
          ],
          [
           16
          ],
          [
           6
          ],
          [
           6
          ],
          [
           2
          ],
          [
           2
          ]
         ],
         "hovertemplate": "(%{x:.7}, %{customdata[0]:.7})<br><extra>%{fullData.name}</extra>",
         "marker": {
          "color": [
           "rgb(96.59701, 1.79104, 164.4403)",
           "rgb(103.8209, 1.46269, 165.91791)",
           "rgb(111.04478, 1.13433, 167.39552)",
           "rgb(118.07463, 3.13433, 167.02985)",
           "rgb(124.97015, 6.74627, 165.38806)",
           "rgb(131.86567, 10.35821, 163.74627)",
           "rgb(138.76119, 13.97015, 162.10448)",
           "rgb(145.65672, 17.58209, 160.46269)",
           "rgb(152.55224, 21.19403, 158.8209)",
           "rgb(158.70896, 25.62687, 156.02985)"
          ],
          "line": {
           "color": "black",
           "width": 0.5
          }
         },
         "name": "Trace 4",
         "type": "bar",
         "x": [
          175,
          183.8,
          192.6,
          201.4,
          210.2,
          219,
          227.8,
          236.60000000000002,
          245.4,
          254.2
         ],
         "y": [
          1,
          10,
          19,
          18,
          20,
          16,
          6,
          6,
          2,
          2
         ],
         "zorder": 3
        }
       ],
       "layout": {
        "bargap": 0,
        "bargroupgap": 0,
        "barmode": "stack",
        "legend": {
         "traceorder": "normal"
        },
        "template": {
         "data": {
          "bar": [
           {
            "error_x": {
             "color": "#2a3f5f"
            },
            "error_y": {
             "color": "#2a3f5f"
            },
            "marker": {
             "line": {
              "color": "#E5ECF6",
              "width": 0.5
             },
             "pattern": {
              "fillmode": "overlay",
              "size": 10,
              "solidity": 0.2
             }
            },
            "type": "bar"
           }
          ],
          "barpolar": [
           {
            "marker": {
             "line": {
              "color": "#E5ECF6",
              "width": 0.5
             },
             "pattern": {
              "fillmode": "overlay",
              "size": 10,
              "solidity": 0.2
             }
            },
            "type": "barpolar"
           }
          ],
          "carpet": [
           {
            "aaxis": {
             "endlinecolor": "#2a3f5f",
             "gridcolor": "white",
             "linecolor": "white",
             "minorgridcolor": "white",
             "startlinecolor": "#2a3f5f"
            },
            "baxis": {
             "endlinecolor": "#2a3f5f",
             "gridcolor": "white",
             "linecolor": "white",
             "minorgridcolor": "white",
             "startlinecolor": "#2a3f5f"
            },
            "type": "carpet"
           }
          ],
          "choropleth": [
           {
            "colorbar": {
             "outlinewidth": 0,
             "ticks": ""
            },
            "type": "choropleth"
           }
          ],
          "contour": [
           {
            "colorbar": {
             "outlinewidth": 0,
             "ticks": ""
            },
            "colorscale": [
             [
              0,
              "#0d0887"
             ],
             [
              0.1111111111111111,
              "#46039f"
             ],
             [
              0.2222222222222222,
              "#7201a8"
             ],
             [
              0.3333333333333333,
              "#9c179e"
             ],
             [
              0.4444444444444444,
              "#bd3786"
             ],
             [
              0.5555555555555556,
              "#d8576b"
             ],
             [
              0.6666666666666666,
              "#ed7953"
             ],
             [
              0.7777777777777778,
              "#fb9f3a"
             ],
             [
              0.8888888888888888,
              "#fdca26"
             ],
             [
              1,
              "#f0f921"
             ]
            ],
            "type": "contour"
           }
          ],
          "contourcarpet": [
           {
            "colorbar": {
             "outlinewidth": 0,
             "ticks": ""
            },
            "type": "contourcarpet"
           }
          ],
          "heatmap": [
           {
            "colorbar": {
             "outlinewidth": 0,
             "ticks": ""
            },
            "colorscale": [
             [
              0,
              "#0d0887"
             ],
             [
              0.1111111111111111,
              "#46039f"
             ],
             [
              0.2222222222222222,
              "#7201a8"
             ],
             [
              0.3333333333333333,
              "#9c179e"
             ],
             [
              0.4444444444444444,
              "#bd3786"
             ],
             [
              0.5555555555555556,
              "#d8576b"
             ],
             [
              0.6666666666666666,
              "#ed7953"
             ],
             [
              0.7777777777777778,
              "#fb9f3a"
             ],
             [
              0.8888888888888888,
              "#fdca26"
             ],
             [
              1,
              "#f0f921"
             ]
            ],
            "type": "heatmap"
           }
          ],
          "histogram": [
           {
            "marker": {
             "pattern": {
              "fillmode": "overlay",
              "size": 10,
              "solidity": 0.2
             }
            },
            "type": "histogram"
           }
          ],
          "histogram2d": [
           {
            "colorbar": {
             "outlinewidth": 0,
             "ticks": ""
            },
            "colorscale": [
             [
              0,
              "#0d0887"
             ],
             [
              0.1111111111111111,
              "#46039f"
             ],
             [
              0.2222222222222222,
              "#7201a8"
             ],
             [
              0.3333333333333333,
              "#9c179e"
             ],
             [
              0.4444444444444444,
              "#bd3786"
             ],
             [
              0.5555555555555556,
              "#d8576b"
             ],
             [
              0.6666666666666666,
              "#ed7953"
             ],
             [
              0.7777777777777778,
              "#fb9f3a"
             ],
             [
              0.8888888888888888,
              "#fdca26"
             ],
             [
              1,
              "#f0f921"
             ]
            ],
            "type": "histogram2d"
           }
          ],
          "histogram2dcontour": [
           {
            "colorbar": {
             "outlinewidth": 0,
             "ticks": ""
            },
            "colorscale": [
             [
              0,
              "#0d0887"
             ],
             [
              0.1111111111111111,
              "#46039f"
             ],
             [
              0.2222222222222222,
              "#7201a8"
             ],
             [
              0.3333333333333333,
              "#9c179e"
             ],
             [
              0.4444444444444444,
              "#bd3786"
             ],
             [
              0.5555555555555556,
              "#d8576b"
             ],
             [
              0.6666666666666666,
              "#ed7953"
             ],
             [
              0.7777777777777778,
              "#fb9f3a"
             ],
             [
              0.8888888888888888,
              "#fdca26"
             ],
             [
              1,
              "#f0f921"
             ]
            ],
            "type": "histogram2dcontour"
           }
          ],
          "mesh3d": [
           {
            "colorbar": {
             "outlinewidth": 0,
             "ticks": ""
            },
            "type": "mesh3d"
           }
          ],
          "parcoords": [
           {
            "line": {
             "colorbar": {
              "outlinewidth": 0,
              "ticks": ""
             }
            },
            "type": "parcoords"
           }
          ],
          "pie": [
           {
            "automargin": true,
            "type": "pie"
           }
          ],
          "scatter": [
           {
            "fillpattern": {
             "fillmode": "overlay",
             "size": 10,
             "solidity": 0.2
            },
            "type": "scatter"
           }
          ],
          "scatter3d": [
           {
            "line": {
             "colorbar": {
              "outlinewidth": 0,
              "ticks": ""
             }
            },
            "marker": {
             "colorbar": {
              "outlinewidth": 0,
              "ticks": ""
             }
            },
            "type": "scatter3d"
           }
          ],
          "scattercarpet": [
           {
            "marker": {
             "colorbar": {
              "outlinewidth": 0,
              "ticks": ""
             }
            },
            "type": "scattercarpet"
           }
          ],
          "scattergeo": [
           {
            "marker": {
             "colorbar": {
              "outlinewidth": 0,
              "ticks": ""
             }
            },
            "type": "scattergeo"
           }
          ],
          "scattergl": [
           {
            "marker": {
             "colorbar": {
              "outlinewidth": 0,
              "ticks": ""
             }
            },
            "type": "scattergl"
           }
          ],
          "scattermap": [
           {
            "marker": {
             "colorbar": {
              "outlinewidth": 0,
              "ticks": ""
             }
            },
            "type": "scattermap"
           }
          ],
          "scattermapbox": [
           {
            "marker": {
             "colorbar": {
              "outlinewidth": 0,
              "ticks": ""
             }
            },
            "type": "scattermapbox"
           }
          ],
          "scatterpolar": [
           {
            "marker": {
             "colorbar": {
              "outlinewidth": 0,
              "ticks": ""
             }
            },
            "type": "scatterpolar"
           }
          ],
          "scatterpolargl": [
           {
            "marker": {
             "colorbar": {
              "outlinewidth": 0,
              "ticks": ""
             }
            },
            "type": "scatterpolargl"
           }
          ],
          "scatterternary": [
           {
            "marker": {
             "colorbar": {
              "outlinewidth": 0,
              "ticks": ""
             }
            },
            "type": "scatterternary"
           }
          ],
          "surface": [
           {
            "colorbar": {
             "outlinewidth": 0,
             "ticks": ""
            },
            "colorscale": [
             [
              0,
              "#0d0887"
             ],
             [
              0.1111111111111111,
              "#46039f"
             ],
             [
              0.2222222222222222,
              "#7201a8"
             ],
             [
              0.3333333333333333,
              "#9c179e"
             ],
             [
              0.4444444444444444,
              "#bd3786"
             ],
             [
              0.5555555555555556,
              "#d8576b"
             ],
             [
              0.6666666666666666,
              "#ed7953"
             ],
             [
              0.7777777777777778,
              "#fb9f3a"
             ],
             [
              0.8888888888888888,
              "#fdca26"
             ],
             [
              1,
              "#f0f921"
             ]
            ],
            "type": "surface"
           }
          ],
          "table": [
           {
            "cells": {
             "fill": {
              "color": "#EBF0F8"
             },
             "line": {
              "color": "white"
             }
            },
            "header": {
             "fill": {
              "color": "#C8D4E3"
             },
             "line": {
              "color": "white"
             }
            },
            "type": "table"
           }
          ]
         },
         "layout": {
          "annotationdefaults": {
           "arrowcolor": "#2a3f5f",
           "arrowhead": 0,
           "arrowwidth": 1
          },
          "autotypenumbers": "strict",
          "coloraxis": {
           "colorbar": {
            "outlinewidth": 0,
            "ticks": ""
           }
          },
          "colorscale": {
           "diverging": [
            [
             0,
             "#8e0152"
            ],
            [
             0.1,
             "#c51b7d"
            ],
            [
             0.2,
             "#de77ae"
            ],
            [
             0.3,
             "#f1b6da"
            ],
            [
             0.4,
             "#fde0ef"
            ],
            [
             0.5,
             "#f7f7f7"
            ],
            [
             0.6,
             "#e6f5d0"
            ],
            [
             0.7,
             "#b8e186"
            ],
            [
             0.8,
             "#7fbc41"
            ],
            [
             0.9,
             "#4d9221"
            ],
            [
             1,
             "#276419"
            ]
           ],
           "sequential": [
            [
             0,
             "#0d0887"
            ],
            [
             0.1111111111111111,
             "#46039f"
            ],
            [
             0.2222222222222222,
             "#7201a8"
            ],
            [
             0.3333333333333333,
             "#9c179e"
            ],
            [
             0.4444444444444444,
             "#bd3786"
            ],
            [
             0.5555555555555556,
             "#d8576b"
            ],
            [
             0.6666666666666666,
             "#ed7953"
            ],
            [
             0.7777777777777778,
             "#fb9f3a"
            ],
            [
             0.8888888888888888,
             "#fdca26"
            ],
            [
             1,
             "#f0f921"
            ]
           ],
           "sequentialminus": [
            [
             0,
             "#0d0887"
            ],
            [
             0.1111111111111111,
             "#46039f"
            ],
            [
             0.2222222222222222,
             "#7201a8"
            ],
            [
             0.3333333333333333,
             "#9c179e"
            ],
            [
             0.4444444444444444,
             "#bd3786"
            ],
            [
             0.5555555555555556,
             "#d8576b"
            ],
            [
             0.6666666666666666,
             "#ed7953"
            ],
            [
             0.7777777777777778,
             "#fb9f3a"
            ],
            [
             0.8888888888888888,
             "#fdca26"
            ],
            [
             1,
             "#f0f921"
            ]
           ]
          },
          "colorway": [
           "#636efa",
           "#EF553B",
           "#00cc96",
           "#ab63fa",
           "#FFA15A",
           "#19d3f3",
           "#FF6692",
           "#B6E880",
           "#FF97FF",
           "#FECB52"
          ],
          "font": {
           "color": "#2a3f5f"
          },
          "geo": {
           "bgcolor": "white",
           "lakecolor": "white",
           "landcolor": "#E5ECF6",
           "showlakes": true,
           "showland": true,
           "subunitcolor": "white"
          },
          "hoverlabel": {
           "align": "left"
          },
          "hovermode": "closest",
          "mapbox": {
           "style": "light"
          },
          "paper_bgcolor": "white",
          "plot_bgcolor": "#E5ECF6",
          "polar": {
           "angularaxis": {
            "gridcolor": "white",
            "linecolor": "white",
            "ticks": ""
           },
           "bgcolor": "#E5ECF6",
           "radialaxis": {
            "gridcolor": "white",
            "linecolor": "white",
            "ticks": ""
           }
          },
          "scene": {
           "xaxis": {
            "backgroundcolor": "#E5ECF6",
            "gridcolor": "white",
            "gridwidth": 2,
            "linecolor": "white",
            "showbackground": true,
            "ticks": "",
            "zerolinecolor": "white"
           },
           "yaxis": {
            "backgroundcolor": "#E5ECF6",
            "gridcolor": "white",
            "gridwidth": 2,
            "linecolor": "white",
            "showbackground": true,
            "ticks": "",
            "zerolinecolor": "white"
           },
           "zaxis": {
            "backgroundcolor": "#E5ECF6",
            "gridcolor": "white",
            "gridwidth": 2,
            "linecolor": "white",
            "showbackground": true,
            "ticks": "",
            "zerolinecolor": "white"
           }
          },
          "shapedefaults": {
           "line": {
            "color": "#2a3f5f"
           }
          },
          "ternary": {
           "aaxis": {
            "gridcolor": "white",
            "linecolor": "white",
            "ticks": ""
           },
           "baxis": {
            "gridcolor": "white",
            "linecolor": "white",
            "ticks": ""
           },
           "bgcolor": "#E5ECF6",
           "caxis": {
            "gridcolor": "white",
            "linecolor": "white",
            "ticks": ""
           }
          },
          "title": {
           "x": 0.05
          },
          "xaxis": {
           "automargin": true,
           "gridcolor": "white",
           "linecolor": "white",
           "ticks": "",
           "title": {
            "standoff": 15
           },
           "zerolinecolor": "white",
           "zerolinewidth": 2
          },
          "yaxis": {
           "automargin": true,
           "gridcolor": "white",
           "linecolor": "white",
           "ticks": "",
           "title": {
            "standoff": 15
           },
           "zerolinecolor": "white",
           "zerolinewidth": 2
          }
         }
        },
        "title": {
         "text": "Distributions of estimated network size\nbased on sample size"
        },
        "xaxis": {
         "range": [
          64.88,
          595.5200000000001
         ],
         "showgrid": true,
         "showticklabels": true,
         "title": {
          "text": "Network size estimation"
         },
         "zeroline": false
        },
        "yaxis": {
         "showgrid": true,
         "showticklabels": true,
         "ticktext": [
          [
           "Trace 1"
          ],
          [
           "Trace 2"
          ],
          [
           "Trace 3"
          ],
          [
           "Trace 4"
          ]
         ],
         "tickvals": [
          0,
          -17,
          -34,
          -51
         ],
         "title": {
          "text": "Sample size"
         },
         "zeroline": false
        }
       }
      }
     },
     "metadata": {},
     "output_type": "display_data"
    }
   ],
   "source": [
    "# Run, but do not modify the contents of this cell\n",
    "G_mouse_brain = load_mouse_brain_network()\n",
    "sub_sample_sizes=[25, 50, 75, 100]\n",
    "data = []\n",
    "for sample_size in sub_sample_sizes:\n",
    "    data.append(network_size_estimates[sample_size])\n",
    "util_plot_histos_as_ridge(data=data)"
   ]
  },
  {
   "cell_type": "code",
   "execution_count": 49,
   "id": "dc6e4f60-797b-4618-a5d5-3bbcfc200c18",
   "metadata": {},
   "outputs": [
    {
     "name": "stdout",
     "output_type": "stream",
     "text": [
      "util_plot_sample_size_error : len(sample_sizes) :  39\n",
      "util_plot_sample_size_error : len(sample_sizes) :  39\n"
     ]
    },
    {
     "data": {
      "image/png": "[encoded data removed]",
      "text/plain": [
       "<Figure size 432x288 with 1 Axes>"
      ]
     },
     "metadata": {
      "needs_background": "light"
     },
     "output_type": "display_data"
    }
   ],
   "source": [
    "# Run, but do not modify the contents of this cell\n",
    "util_plot_sample_size_error(\n",
    "    network_size_estimates, \n",
    "    sample_sizes=sample_sizes, \n",
    "    true_size=len(G_mouse_brain.nodes())\n",
    ")"
   ]
  },
  {
   "cell_type": "markdown",
   "id": "d174f23c-c8ed-4a60-bf73-54e02e30ed12",
   "metadata": {},
   "source": [
    "## 3.4 <font size=3> [10 pts] Analysis"
   ]
  },
  {
   "cell_type": "markdown",
   "id": "33ce4970-3bd0-4799-ac91-05be73d8f0ee",
   "metadata": {},
   "source": [
    "Use the visualizations above to answer the questions below."
   ]
  },
  {
   "cell_type": "markdown",
   "id": "ee79b836-e13a-4add-be7a-4f6a803abb5e",
   "metadata": {},
   "source": [
    "**Question 1.** How does the estimate of the network size change as the sample size is increased?"
   ]
  },
  {
   "cell_type": "code",
   "execution_count": 50,
   "id": "b5805496-868e-42d2-960c-668dd88a73d3",
   "metadata": {},
   "outputs": [],
   "source": [
    "def part_3_analysis_q1_response() -> str:\n",
    "    \"\"\"\n",
    "    return\n",
    "                  str        string that best answers the question\n",
    "    \"\"\"\n",
    "\n",
    "    #return \"It oscillates wildly and never converges.\"\n",
    "    #return \"The error bars generally shrink, but the distributions expand, becoming less useful.\"\n",
    "    #return \"The distributions converge to a normal distribution, but the error bars expand.\"\n",
    "    #return \"Both the error bars expand and the distribution diverge from normal distributions.\"\n",
    "    return \"The error bars generally shrink and the distributions converge to a normal distribution.\"\n",
    "#     return \"Yo\""
   ]
  },
  {
   "cell_type": "markdown",
   "id": "9beee75a-f779-446a-9f49-4930fdbe4506",
   "metadata": {},
   "source": [
    "**Question 2.** What is the smallest sample size you would consider a good\n",
    "choice for estimating the number of nodes?"
   ]
  },
  {
   "cell_type": "code",
   "execution_count": 51,
   "id": "32170acd-ffef-4c6e-b9af-9cd19b8ef66b",
   "metadata": {},
   "outputs": [],
   "source": [
    "def part_3_analysis_q2_response() -> str:\n",
    "    \"\"\"\n",
    "    return\n",
    "                  str        string that best answers the question\n",
    "    \"\"\"\n",
    "\n",
    "    #return \"A sample size of 5 would do just fine.\"\n",
    "    #return \"A sample size of 10, or 5% of the entire network, seems plenty reasonable.\"\n",
    "    return \"A sample size of 75 seems to be a decent balance between not too large of a percentage of nodes, but with decent accuracy.\"\n",
    "    #return \"Something close to 90% of the total nodes should probably do it.\"\n",
    "    #return \"Just take the whole network for the sample.\"\n",
    "#     return \"Yo\""
   ]
  },
  {
   "cell_type": "markdown",
   "id": "8f1c01eb-1a4f-4760-aac9-541eb199918a",
   "metadata": {},
   "source": [
    "# Part 4 <font size=3> [15 pts] Natural language processing with label propagation"
   ]
  },
  {
   "cell_type": "markdown",
   "id": "c7ad95bd-2577-457c-a02b-6213e3a4c65a",
   "metadata": {},
   "source": [
    "For this part, we will pretend that there are two political parties, characterized as follows:\n",
    "* **Orange Party**\n",
    "    * pro-worker rights\n",
    "    * pro-technology-for-all\n",
    "    * anti-idleness.\n",
    "* **Green Party**\n",
    "    * pro-individual autonomy\n",
    "    * off-grid/nature life\n",
    "    * eco-conscious\n",
    "    * pro-self-reliance\n",
    "\n",
    "We want to build a machine learning natural language classifier that can accurately predict which party any given political statement should be ascribed to. For example, does the following statement sound like it would be said by someone from the Orange Party, or from the Green Party?\n",
    "\n",
    "> \"autonomy isnt free its forgers only\""
   ]
  },
  {
   "cell_type": "markdown",
   "id": "eb355118-4b4d-4ae2-895c-7ccc2c9a5655",
   "metadata": {},
   "source": [
    "In order to do this, we will create a bipartite natural language network and use it to train a sentence classifier model using a semi-supervised machine learning algorithm called [label propagation](https://en.wikipedia.org/wiki/Label_propagation_algorithm). "
   ]
  },
  {
   "cell_type": "markdown",
   "id": "9a9ba299-f81f-4b8b-847c-6d4afe3b3cf9",
   "metadata": {},
   "source": [
    "## 4.1 <font size=3> [1 pts] Corpus network"
   ]
  },
  {
   "cell_type": "markdown",
   "id": "8ab2cbbb-4312-415e-a17d-36631ba15205",
   "metadata": {},
   "source": [
    "Our goal is to build a natural language network from a corpus of political statements. The end result will be a matrix that we can think of as a biadjacency matrix between documents (sentences) on one side and single words on the other. Run the cell below to see a toy example of this."
   ]
  },
  {
   "cell_type": "code",
   "execution_count": 52,
   "id": "d0d3dd5f-d8e6-4b6c-b7d8-007d75b9066f",
   "metadata": {},
   "outputs": [
    {
     "data": {
      "image/png": "[encoded data removed]",
      "text/plain": [
       "<Figure size 864x432 with 1 Axes>"
      ]
     },
     "metadata": {},
     "output_type": "display_data"
    }
   ],
   "source": [
    "# Run, but do not modify the contents of this cell\n",
    "G_corpus_network = nx.Graph()\n",
    "G_corpus_network.add_edges_from(nlp_data.corpus_network_example_edges)\n",
    "plt.figure(figsize=(12,6))\n",
    "nx.draw_networkx(\n",
    "    G=G_corpus_network,\n",
    "    pos=nlp_data.corpus_network_example_pos, \n",
    "    with_labels=True, \n",
    "    node_color=\"#eeeeee\", \n",
    "    edge_color=\"#cccccc\")\n",
    "plt.title(\"Example corpus network\")\n",
    "plt.show()"
   ]
  },
  {
   "cell_type": "markdown",
   "id": "fe6939ec-e1eb-4fc6-a28d-befcce441d9f",
   "metadata": {},
   "source": [
    "The above example was a toy with just a few sentences. Now we will create the network for the entire political statement corpus. \n",
    "\n",
    "In the body of the function below:\n",
    "1. Iterate through `nlp_data.corpus_poli_labelled`, which is a list of 2-tuples `(doc, label)`,\n",
    "    * storing each document (sentence) in `docs`,\n",
    "    * parsing the document into individual words, storing each *unique* word in `words`,\n",
    "    * storing the label (0 or 1) in `labels`.\n",
    "    * for each word parsed out from the document, add an edge from the document to the word\n",
    "1. Reduce the `words` list down a list containing only unique words.\n",
    "2. Use the python string `sort` method to sort `words`\n",
    "3. Return the graph, docs list (not sorted), word list (sorted), and label list (not sorted)."
   ]
  },
  {
   "cell_type": "code",
   "execution_count": 53,
   "id": "26774ebc-e7e5-4f3b-8e35-3a692db982be",
   "metadata": {},
   "outputs": [],
   "source": [
    "def get_corpus_network() -> nx.Graph:\n",
    "    \"\"\"\n",
    "    return\n",
    "        G_corpus          nx.Graph\n",
    "        docs              list[str]\n",
    "        words             list[str]\n",
    "        labels            list[int]\n",
    "    \"\"\"\n",
    "    \n",
    "    G_corpus = nx.Graph()\n",
    "    docs = []\n",
    "    words = set()\n",
    "    labels = []\n",
    "    \n",
    "    for d, l in nlp_data.corpus_poli_labelled:\n",
    "        docs.append(d)\n",
    "        labels.append(l)\n",
    "        word_list = d.split()\n",
    "        for w in word_list:\n",
    "            words.add(w)\n",
    "            G_corpus.add_edge(d, w)\n",
    "\n",
    "    words = sorted(words)\n",
    "    return G_corpus, docs, words, labels"
   ]
  },
  {
   "cell_type": "markdown",
   "id": "5d168010-6577-4f64-8c3c-89cc0f1df9b6",
   "metadata": {},
   "source": [
    "**Unit test**\n",
    "\n",
    "Running the cell below should produce the following output:\n",
    "\n",
    "> `Graph with 1007 nodes and 2002 edges`"
   ]
  },
  {
   "cell_type": "code",
   "execution_count": 54,
   "id": "416532d4-4915-467c-90a2-3c3f28c952ac",
   "metadata": {},
   "outputs": [
    {
     "name": "stdout",
     "output_type": "stream",
     "text": [
      "Graph with 1007 nodes and 2002 edges\n"
     ]
    }
   ],
   "source": [
    "# Run, but do not modify the contents of this cell\n",
    "G_corpus, docs, words, labels = get_corpus_network()\n",
    "print(G_corpus)"
   ]
  },
  {
   "cell_type": "markdown",
   "id": "1fb02386-40f7-4169-9706-75ab5c8b6687",
   "metadata": {},
   "source": [
    "**Unit test**\n",
    "\n",
    "Running the cell below should produce the following output:\n",
    "\n",
    "> `density                  :  0.0040`\n",
    "> \n",
    "> `is bipartite             :  True`\n",
    ">\n",
    "> `total node count         :  1007`\n",
    ">\n",
    "> `doc count                :  369`\n",
    ">\n",
    "> `word count               :  638`\n",
    ">\n",
    "> `biadjacency_matrix shape :  (369, 638)`"
   ]
  },
  {
   "cell_type": "code",
   "execution_count": 55,
   "id": "31b0bdea-98ff-41c9-87d0-40bd6a347ab4",
   "metadata": {},
   "outputs": [
    {
     "name": "stdout",
     "output_type": "stream",
     "text": [
      "density                  :  0.0040\n",
      "is bipartite             :  True\n",
      "total node count         :  1007\n",
      "doc count                :  369\n",
      "word count               :  638\n",
      "biadjacency_matrix shape :  (369, 638)\n"
     ]
    },
    {
     "name": "stderr",
     "output_type": "stream",
     "text": [
      "C:\\Users\\yeyan\\AppData\\Local\\Temp\\ipykernel_13356\\3228020880.py:3: FutureWarning:\n",
      "\n",
      "biadjacency_matrix will return a scipy.sparse array instead of a matrix in NetworkX 3.0\n",
      "\n"
     ]
    }
   ],
   "source": [
    "# Run, but do not modify the contents of this cell\n",
    "G_corpus, docs, words, labels = get_corpus_network()\n",
    "B_corpus = nx.bipartite.biadjacency_matrix(G_corpus, row_order=docs, column_order=words)\n",
    "print(\"density                  : \", f\"{nx.density(G_corpus):.4f}\")\n",
    "print(\"is bipartite             : \", nx.is_bipartite(G_corpus))\n",
    "print(\"total node count         : \", len(list(G_corpus.nodes)))\n",
    "print(\"doc count                : \", len(docs))\n",
    "print(\"word count               : \", len(words))\n",
    "print(\"biadjacency_matrix shape : \", B_corpus.shape)"
   ]
  },
  {
   "cell_type": "markdown",
   "id": "b6f86b9d-b3b2-48a4-ad78-6ba34a4e2c91",
   "metadata": {},
   "source": [
    "## 4.2 <font size=3> [2 pts] Biadjacency matrix of corpus network"
   ]
  },
  {
   "cell_type": "markdown",
   "id": "e602bd2b-25b6-41a2-b05f-3dbaf4b4288f",
   "metadata": {},
   "source": [
    "In this sub part, we will *vectorize* each document (sentence) in a corpus of text data. That is, we will convert each document into a row vector, with a number of entries equal to the number of distinct tokens (words) in the entire corpus. Stacking these rows gives us a $m\\times n$ matrix, where $m$ is the number of documents and $n$ is the number of unique words. This is precisely the biadjacency matrix of the corpus network discussed in the prior sub part, except that there are weights based on *cosine similarity*."
   ]
  },
  {
   "cell_type": "markdown",
   "id": "6346c6e1-15d3-42e0-88c3-6ad422440959",
   "metadata": {},
   "source": [
    "In the body of the function below: \n",
    "1. Use sklearn's [`TfidfVectorizer`](https://scikit-learn.org/stable/modules/generated/sklearn.feature_extraction.text.TfidfVectorizer.html) class and its `fit_transform` method to convert the text_data into a $m\\times n$ matrix, where:\n",
    "    * $m$ is the number of documents in the `text_data` corpus (each string is considered a document).\n",
    "    * $n$ is the number of unique words (after lower case normalization) among all documents in the `text_data` corpus. These individual words are in [lexicographpical order](https://en.wikipedia.org/wiki/Lexicographic_order).\n",
    "2. Return the vectorization (ie, the computed matrix)"
   ]
  },
  {
   "cell_type": "code",
   "execution_count": 56,
   "id": "2e6ad60f-fff0-4c61-a5c5-9ad033f9180c",
   "metadata": {},
   "outputs": [],
   "source": [
    "from sklearn.feature_extraction.text import TfidfVectorizer\n",
    "def get_corpus_biadjacency_matrix(text_data:list) -> np.array:\n",
    "    \"\"\"\n",
    "    params\n",
    "        text_data      list              list of strings (each string called a 'document')\n",
    "    \n",
    "    return\n",
    "        B              NumPy array       a m x n matrix, where\n",
    "                                         m is the number of documents in text_data\n",
    "                                         n is the total number of distinct words in text_data\n",
    "                                              (in lexicographical order)\n",
    "                                         X[i,j] is the cosine similarity between\n",
    "                                               the i-th document, and\n",
    "                                               the j-th single word\n",
    "    \"\"\"\n",
    "\n",
    "    B = TfidfVectorizer(lowercase=True).fit_transform(text_data)    \n",
    "    return B"
   ]
  },
  {
   "cell_type": "markdown",
   "id": "c39e0507-9b10-4fda-b7ba-dabd17754b31",
   "metadata": {},
   "source": [
    "**Unit test 1**\n",
    "\n",
    "Running the cell below should show the following output:\n",
    "\n",
    "> `0.6228`"
   ]
  },
  {
   "cell_type": "code",
   "execution_count": 57,
   "id": "6eb15723-33a2-4c1f-8800-4bec2d531ecd",
   "metadata": {},
   "outputs": [
    {
     "name": "stdout",
     "output_type": "stream",
     "text": [
      "0.6228\n"
     ]
    }
   ],
   "source": [
    "# Run, but do not modify the contents of this cell\n",
    "text_data = [\"Yo world\",\"Yo hey there\", \"Hello world\",]\n",
    "B_example = get_corpus_biadjacency_matrix(text_data)\n",
    "print(f\"{B_example[1,1]:.4f}\")"
   ]
  },
  {
   "cell_type": "markdown",
   "id": "a05be5da-131a-49be-9954-83081535a8b8",
   "metadata": {},
   "source": [
    "**Unit test 2**\n",
    "\n",
    "Running the cell below should show the following output:\n",
    "\n",
    "> `[[0.50154891 0.50154891 0.70490949 0.        ]`\n",
    ">\n",
    "> `[0.50154891 0.50154891 0.         0.70490949]]`"
   ]
  },
  {
   "cell_type": "code",
   "execution_count": 58,
   "id": "86edc519-ec8d-42e0-a7e8-a1f1e5d28f28",
   "metadata": {},
   "outputs": [
    {
     "name": "stdout",
     "output_type": "stream",
     "text": [
      "[[0.50154891 0.50154891 0.70490949 0.        ]\n",
      " [0.50154891 0.50154891 0.         0.70490949]]\n"
     ]
    }
   ],
   "source": [
    "# Run, but do not modify the contents of this cell\n",
    "text_data = [\"birds fly now\", \"watch birds fly\"]\n",
    "B_example = get_corpus_biadjacency_matrix(text_data).toarray()\n",
    "print(B_example)\n",
    "\n",
    "\"\"\"\n",
    "The structure of this matrix is as follows:\n",
    "\n",
    "                              word_0   word_1  word_2   word_3\n",
    "                               birds      fly     now    watch\n",
    "doc_0 : \"birds fly now\"        0.502    0.502   0.705    0.000\n",
    "doc_1 : \"watch birds fly\"      0.502    0.502   0.000    0.705\n",
    "\n",
    "\"\"\"\n",
    "\n",
    "pass"
   ]
  },
  {
   "cell_type": "markdown",
   "id": "db5519a1-05a4-47c5-a449-80df49639cf6",
   "metadata": {},
   "source": [
    "**Unit test 3**\n",
    "\n",
    "Running the cell below should show the following output:\n",
    "\n",
    "> `docs : words   :  (369, 638)`\n",
    ">\n",
    "> `B_corpus.shape :  (369, 632)`\n",
    "\n",
    "Notice that this these are the same$^1$ dimensions as the document and word counts that we found in the corpus network.\n",
    "\n",
    "$^1$ Almost! There are slightly fewer individual words. This is because the TdidfVectorizer method discards some words that it deems to hold too little distinguishing information to be worth tracking through the process."
   ]
  },
  {
   "cell_type": "code",
   "execution_count": 59,
   "id": "7540a346-9de8-420d-a21b-3b32de0eae2c",
   "metadata": {},
   "outputs": [
    {
     "name": "stdout",
     "output_type": "stream",
     "text": [
      "docs : words   :  (369, 638)\n",
      "B_corpus.shape :  (369, 632)\n"
     ]
    }
   ],
   "source": [
    "# Run, but do not modify the contents of this cell\n",
    "\n",
    "# Corpus network as a networkx graph \n",
    "G_corpus, docs, words, labels = get_corpus_network()\n",
    "\n",
    "# Corpus network biadjacency matrix\n",
    "documents = [doc for doc, label in nlp_data.corpus_poli_labelled]\n",
    "B_corpus = get_corpus_biadjacency_matrix(documents)\n",
    "\n",
    "# Comparison\n",
    "print(\"docs : words   : \", (len(docs), len(words)))\n",
    "print(\"B_corpus.shape : \", B_corpus.shape)"
   ]
  },
  {
   "cell_type": "markdown",
   "id": "3aa8fd7e-7186-4e46-8e85-c59bfe433259",
   "metadata": {},
   "source": [
    "## 4.3 <font size=3> [2 pts] Get text data and labels"
   ]
  },
  {
   "cell_type": "markdown",
   "id": "ac534d21-a6a7-4477-8b25-b11a7cfbf8eb",
   "metadata": {},
   "source": [
    "In the body of the function below:\n",
    "1. Extract a random sample of 2-tuples from the `nlp_data.corpus_poli_labelled` list. The sample size should be proportional to the `perc_of_corpus` float. If the float is `0.5`, then 50% of the 2-tuples should be extracted. Shuffle the new list of extracted 2-tuples.\n",
    "2. Separate the random sample into `text_data` and `labels_true` lists and return them."
   ]
  },
  {
   "cell_type": "code",
   "execution_count": 60,
   "id": "128d36f8-6822-4bd1-8042-0b7f2e748767",
   "metadata": {},
   "outputs": [],
   "source": [
    "def get_training_text_and_labels(perc_of_corpus:float=0.5) -> list:\n",
    "    \"\"\"\n",
    "    params\n",
    "        perc_of_corpus      float          the percentage of the corpus that will be extracted\n",
    "                                               0.25 would be 25% of the corpus\n",
    "    return\n",
    "        text_data           list           list of strings\n",
    "                                               each string is a document from the corpus module\n",
    "        labels_true         list           list of integers containing \n",
    "                                                the fictional party attribution label\n",
    "    \"\"\"\n",
    "    \n",
    "    size = int(len(nlp_data.corpus_poli_labelled) * perc_of_corpus)\n",
    "    sample = random.sample(nlp_data.corpus_poli_labelled, size)\n",
    "    random.shuffle(sample)\n",
    "    text_data = [d for d, i in sample]\n",
    "    labels_true = [l for i, l in sample]\n",
    "    return text_data, labels_true"
   ]
  },
  {
   "cell_type": "markdown",
   "id": "7c858357-630c-489e-8559-99e98d6900f3",
   "metadata": {},
   "source": [
    "**Unit test**\n",
    "\n",
    "Running the cell below should show the following output:\n",
    "\n",
    "> `92`"
   ]
  },
  {
   "cell_type": "code",
   "execution_count": 61,
   "id": "c89fb8c9-af44-4356-a24b-0ca146e892e3",
   "metadata": {},
   "outputs": [
    {
     "name": "stdout",
     "output_type": "stream",
     "text": [
      "92\n"
     ]
    }
   ],
   "source": [
    "# Run but do not modify the contents of this cell\n",
    "text_data, labels_true = get_training_text_and_labels(perc_of_corpus=0.25)\n",
    "print(len(text_data))"
   ]
  },
  {
   "cell_type": "markdown",
   "id": "f818a559-00d7-41e2-98d9-121474f55846",
   "metadata": {},
   "source": [
    "## 4.4 <font size=3> [2 pts] Scrubbing labels"
   ]
  },
  {
   "cell_type": "markdown",
   "id": "01dc53ba-95c5-40a4-b34e-95414db1b5c8",
   "metadata": {},
   "source": [
    "For this function, we'll develop a means of scrubbing labels so that we can provide the label propagtion algorithm a partially labeled dataset - and then compare its predictions to the actual labels."
   ]
  },
  {
   "cell_type": "markdown",
   "id": "c3360365-c0e1-4fa7-9de3-14944f419da9",
   "metadata": {},
   "source": [
    "In the body of the function below:\n",
    "1. Randomly change a number of labels in `labels_true` to -1 (neither party). The number of labels is based on the parameter `perc_unscrubbed`. If this parameter is 0.5, then 50% of the labels should be changed from the ground truth values to -1 (with 50% remaining unchanged). If this parameter is 0.25, then 75% of the labels should be changed from ground truth values to -1 (with 25% remaining unchanged). Which exact labels should be changed should be randomized.\n",
    "    * Make sure that there is always at least one unscrubbed label. In the case where perc_unscrubbed=0.0 or another float small enough to round to 0.0, let the first label be left unscrubbed.\n",
    "3. Return the new list as a numpy array with the indicated number of labels changed."
   ]
  },
  {
   "cell_type": "code",
   "execution_count": 62,
   "id": "86083237-b15c-4a22-8d13-5bfc3ba75829",
   "metadata": {},
   "outputs": [],
   "source": [
    "def scrub_labels(perc_unscrubbed:float=0.1, labels_true:list=[]) -> list:\n",
    "    \"\"\"\n",
    "    params\n",
    "        perc_unscrubbed         float           percentage of ground true labels that\n",
    "                                              will remain unchanged\n",
    "        labels_true             list            list of ground truth topological labels for\n",
    "                                              some set of documents\n",
    "    return\n",
    "        labels_scrubbed         np.array        list of labels where perc_unscrubbed\n",
    "                                              of the labels have been \"scrubbed\"\n",
    "                                              (ie, changed from ground truth label, to a\n",
    "                                                 default -1)\n",
    "        \n",
    "    \"\"\"\n",
    "    \n",
    "    labels_scrubbed = copy.deepcopy(labels_true)\n",
    "    size = len(labels_scrubbed)\n",
    "    unscrubbed = int(round(size * perc_unscrubbed))\n",
    "\n",
    "    if unscrubbed < 1:\n",
    "        unscrubbed = 1\n",
    "        unscrubbed_idxs = [0]\n",
    "    else:\n",
    "        unscrubbed_idxs = random.sample(range(size), unscrubbed)\n",
    "\n",
    "    for i in range(size):\n",
    "        if i not in unscrubbed_idxs:\n",
    "            labels_scrubbed[i] = -1\n",
    "\n",
    "    return np.array(labels_scrubbed)"
   ]
  },
  {
   "cell_type": "markdown",
   "id": "c80446a9-be06-45f9-a564-1044bd2f8918",
   "metadata": {},
   "source": [
    "**Unit test**\n",
    "\n",
    "Running the cell below should show the following output:\n",
    "\n",
    "> `[ 0 -1 -1 -1]`"
   ]
  },
  {
   "cell_type": "code",
   "execution_count": 63,
   "id": "60b556b7-b120-43ac-87a2-d2fad1de7818",
   "metadata": {},
   "outputs": [
    {
     "name": "stdout",
     "output_type": "stream",
     "text": [
      "[ 0 -1 -1 -1]\n"
     ]
    }
   ],
   "source": [
    "# Run but do not modify the contents of this cell\n",
    "labels_scrubbed = scrub_labels(perc_unscrubbed=0.0, labels_true=[0,0,0,0])\n",
    "print(labels_scrubbed)"
   ]
  },
  {
   "cell_type": "markdown",
   "id": "dbc36a83-328d-40ab-9a43-c5879e4ee818",
   "metadata": {},
   "source": [
    "## 4.5 <font size=3> [2 pts] Training label propagation model"
   ]
  },
  {
   "cell_type": "markdown",
   "id": "c531a5a1-fb29-48e5-bf32-907b3e5a0d83",
   "metadata": {},
   "source": [
    "Label propagation is a graph-based, **semi**-supervised machine learning technique. \n",
    "* The semi-supervision stems from the fact that some of the data is labeled and some is not. In our example, some of the documents will have their true labels (0 if they are attributed to the fictitious Orange Party and 1 if attributed to the fictitious Green Party), while others will have \"no label\" (the label of -1).\n",
    "* Label propagation works by iteratively propagating labels from the labeled nodes to the unlabeled nodes over the graph. The propagation is determined by the weight/strength of the respective edges. In our case, the strength of the edges is determined by the cosine similarity between the single word nodes and the multi word nodes in the corpus network."
   ]
  },
  {
   "cell_type": "markdown",
   "id": "62aa808d-ed9e-4fb6-a54f-c38d86118dba",
   "metadata": {},
   "source": [
    "In the body of the function below:\n",
    "1. Use the `get_corpus_biadjacency_matrix` function to retrieve the biadjacency matrix of the `text_data` parameter.\n",
    "2. Instantiate a [`LabelPropagation`](https://scikit-learn.org/stable/modules/generated/sklearn.semi_supervised.LabelPropagation.html) object. To guarantee convergence, set the maximum iterations to 10,000.\n",
    "3. Fit the label propagation object to the vectorized text data and the scrubbed labels.\n",
    "4. Return the fit model"
   ]
  },
  {
   "cell_type": "code",
   "execution_count": 64,
   "id": "5db20649-d6b4-44ef-aafa-4f01e1792cbe",
   "metadata": {},
   "outputs": [],
   "source": [
    "def get_trained_label_prop_model(text_data:list, labels_scrubbed:np.array) -> LabelPropagation:\n",
    "    \"\"\"\n",
    "    params\n",
    "        text_data              list[str]\n",
    "        labels_scrubbed        list[int]\n",
    "\n",
    "    return\n",
    "        label_prop_model       LabelPropagation\n",
    "\n",
    "    \"\"\"\n",
    "\n",
    "    B = get_corpus_biadjacency_matrix(text_data).toarray()\n",
    "    label_prop_model = LabelPropagation(max_iter=10000)\n",
    "    label_prop_model.fit(B, labels_scrubbed)\n",
    "\n",
    "    return label_prop_model"
   ]
  },
  {
   "cell_type": "markdown",
   "id": "004418af-9900-4bc5-9e55-c8ac8004f5dc",
   "metadata": {},
   "source": [
    "**Unit test**\n",
    "\n",
    "Running the cell below should show the following output:\n",
    "\n",
    "> `[1 1]`"
   ]
  },
  {
   "cell_type": "code",
   "execution_count": 65,
   "id": "7cb9dd78-9bc8-4458-aef7-f9a0595c9075",
   "metadata": {},
   "outputs": [
    {
     "name": "stdout",
     "output_type": "stream",
     "text": [
      "[1 1]\n"
     ]
    }
   ],
   "source": [
    "# Run, but do not modify the contents of this cell\n",
    "text_data = [\n",
    "    \"a future worth building takes work\",\n",
    "    \"abundance begins with enough\",\n",
    "    ]\n",
    "labels_scrubbed = [-1,1]\n",
    "label_prop_model = get_trained_label_prop_model(text_data=text_data, labels_scrubbed=labels_scrubbed)\n",
    "B = get_corpus_biadjacency_matrix(text_data=text_data)\n",
    "print(label_prop_model.predict(B))"
   ]
  },
  {
   "cell_type": "markdown",
   "id": "cdbf3bd8-2539-4a8b-88dc-8f53224aae33",
   "metadata": {},
   "source": [
    "## 4.6 <font size=3> [2 pts] Model accuracy"
   ]
  },
  {
   "cell_type": "markdown",
   "id": "b645a96e-3435-4d47-b049-aba009530084",
   "metadata": {},
   "source": [
    "In the body of the function below:\n",
    "1. Get the biadjacency matrix of the `text_data` and feed it into the `label_prop_model`'s `predict` method to return a list of labels for the senttences of the `text_data`.\n",
    "2. Compare the list of predicted labels to the true labels and return the ratio as a real number (inclusively) between 0 and 1."
   ]
  },
  {
   "cell_type": "code",
   "execution_count": 66,
   "id": "9ab1ab42-568b-4d3b-ab88-dc6df77737e4",
   "metadata": {},
   "outputs": [],
   "source": [
    "def get_accuracy(label_prop_model:LabelPropagation, text_data:list, labels_true:list, show:bool=False) -> float:\n",
    "    \"\"\"\n",
    "    params\n",
    "        label_prop_model      LabelPropagation\n",
    "        text_data             list[str]\n",
    "        labels_true           list[int]\n",
    "        show                  bool\n",
    "    return\n",
    "        acc                   float\n",
    "    \"\"\"\n",
    "\n",
    "    B = get_corpus_biadjacency_matrix(text_data)\n",
    "    preds = label_prop_model.predict(B)\n",
    "    num = sum(p == t for p, t in zip(preds, labels_true))\n",
    "    acc = num / len(labels_true)\n",
    "\n",
    "    if show:\n",
    "        print(f\"Predicted: {preds}\")\n",
    "        print(f\"True:      {labels_true}\")\n",
    "        print(f\"Accuracy:  {acc:.4f}\")\n",
    "\n",
    "    return acc"
   ]
  },
  {
   "cell_type": "markdown",
   "id": "8b687f42-29a0-4cc9-ab24-51555650adfe",
   "metadata": {},
   "source": [
    "## 4.7 <font size=3> [2 pts] Putting it all together"
   ]
  },
  {
   "cell_type": "markdown",
   "id": "f09b3a1d-bd96-4d41-80a5-5b355ef67ec1",
   "metadata": {},
   "source": [
    "In the body of the function below:\n",
    "1. Use the `get_text_data_and_labels` function to get `text_data` and `y_true` based on the arguments of the function.\n",
    "2. Use the `scrub_labels` function to get `y_scrubbed` based on the arguments of the function.\n",
    "3. Use the `get_trained_label_prop_model` to get a trained label propagation model.\n",
    "4. Use the `get_accuracy` function to get an accuracy based on the earlier returns within the function.\n",
    "5. (Optional) Use the `show` parameter to display the accuracy for yourself.\n",
    "6. Return the accuracy (as a real number between 0 and 1)."
   ]
  },
  {
   "cell_type": "code",
   "execution_count": 67,
   "id": "0c1a39b6-f188-491f-aee6-7d15aa293568",
   "metadata": {},
   "outputs": [],
   "source": [
    "def run_full_label_prop(\n",
    "    perc_of_corpus:float=0.1,\n",
    "    perc_unscrubbed:float=0.25,\n",
    "    show:bool=False,\n",
    ") -> float:\n",
    "    \"\"\"\n",
    "    params\n",
    "        perc_of_corpus            float\n",
    "        perc_unscrubbed           float\n",
    "        show                      bool\n",
    "    return\n",
    "        acc                       float\n",
    "\n",
    "    \"\"\"\n",
    "\n",
    "    text_data, labels_true = get_training_text_and_labels(perc_of_corpus)\n",
    "    labels_scrubbed = scrub_labels(perc_unscrubbed, labels_true)\n",
    "    label_prop_model = get_trained_label_prop_model(text_data, labels_scrubbed)\n",
    "    acc = get_accuracy(label_prop_model, text_data, labels_true, show=show)\n",
    "    return acc"
   ]
  },
  {
   "cell_type": "markdown",
   "id": "44b4d6ac-e9b4-4277-8e25-621137cf3419",
   "metadata": {},
   "source": [
    "**Unit test**\n",
    "\n",
    "> `number of documents : 92`\n",
    ">\n",
    "> `number of unique labels : 2`\n",
    ">\n",
    "> `acc : (about 60-85%)`"
   ]
  },
  {
   "cell_type": "code",
   "execution_count": 68,
   "id": "9a624b33-af76-4c02-a626-19adec16c694",
   "metadata": {},
   "outputs": [
    {
     "name": "stdout",
     "output_type": "stream",
     "text": [
      "Predicted: [1 0 1 0 0 0 0 0 0 0 1 0 0 0 1 0 0 0 0 1 1 0 0 0 0 1 1 0 1 0 0 0 0 0 0 0 0\n",
      " 0 0 0 0 1 0 0 1 1 0 0 0 1 0 1 0 1 1 1 0 0 0 1 0 1 1 1 0 1 1 1 0 0 0 1 0 0\n",
      " 1 1 0 0 0 0 0 1 0 0 0 1 0 0 0 0 0 0]\n",
      "True:      [0, 0, 1, 0, 1, 0, 0, 0, 0, 0, 0, 0, 0, 0, 1, 0, 0, 0, 0, 1, 1, 1, 0, 1, 0, 1, 1, 1, 0, 0, 0, 1, 0, 0, 0, 0, 0, 0, 0, 0, 0, 1, 0, 0, 1, 1, 1, 0, 0, 1, 1, 1, 0, 1, 1, 1, 1, 1, 0, 1, 0, 1, 1, 1, 0, 1, 1, 1, 0, 0, 1, 1, 0, 0, 1, 1, 0, 0, 1, 0, 0, 1, 1, 1, 1, 0, 1, 0, 0, 1, 0, 0]\n",
      "Accuracy:  0.7826\n"
     ]
    }
   ],
   "source": [
    "# Run, but do not modify the contents of this cell\n",
    "perc_of_corpus = 0.25\n",
    "perc_unscrubbed = 0.25\n",
    "acc = run_full_label_prop(\n",
    "    perc_of_corpus=perc_of_corpus, \n",
    "    perc_unscrubbed=perc_unscrubbed, \n",
    "    show=True,\n",
    ")"
   ]
  },
  {
   "cell_type": "markdown",
   "id": "0cf78306-3c3b-4214-adb7-cab1ab7791da",
   "metadata": {},
   "source": [
    "## 4.8 <font size=3> [0 pts] Visualization"
   ]
  },
  {
   "cell_type": "markdown",
   "id": "628ce23c-d791-4579-ad91-bb42007d3245",
   "metadata": {},
   "source": [
    "Run the cell below to define a visualization function."
   ]
  },
  {
   "cell_type": "code",
   "execution_count": 69,
   "id": "beb8c434-2e81-4f80-8156-8b01b9e22ad8",
   "metadata": {},
   "outputs": [],
   "source": [
    "# Run, but do not modify the contents of this cell\n",
    "def util_show_label_prop_accuracy(\n",
    "    perc_of_corpus_min=0.1, \n",
    "    perc_of_corpus_max=1.0, \n",
    "    perc_of_corpus_ct=10,\n",
    "    perc_unscrubbed_min=0.3,\n",
    "    perc_unscrubbed_max=0.75,\n",
    "    perc_unscrubbed_ct=10,\n",
    ") -> None:\n",
    "\n",
    "    perc_of_corpus_space = np.linspace(start=perc_of_corpus_min, stop=perc_of_corpus_max, num=perc_of_corpus_ct)\n",
    "    perc_unscrubbed_space = np.linspace(start=perc_unscrubbed_min, stop=perc_unscrubbed_max, num=perc_unscrubbed_ct)\n",
    "\n",
    "    H = np.zeros(shape=(perc_of_corpus_ct, perc_unscrubbed_ct))\n",
    "\n",
    "    for i in range(perc_of_corpus_ct):\n",
    "        perc_of_corpus = perc_of_corpus_space[i]\n",
    "        for j in range(perc_unscrubbed_ct):\n",
    "            perc_unscrubbed = perc_unscrubbed_space[j]\n",
    "\n",
    "            H[i,j] = run_full_label_prop(perc_of_corpus=perc_of_corpus, perc_unscrubbed=perc_unscrubbed, show=False)\n",
    "\n",
    "    # Visualize H matrix (accuracy matrix) as heatmap\n",
    "    sns.heatmap(H,vmin=0.0, vmax=1.0)\n",
    "    plt.title(\"Performance of Label Propogation algorithm\")\n",
    "    plt.xlabel(f\"Percentage of true labels\\nmin={perc_unscrubbed_min}  max={perc_unscrubbed_max}\")\n",
    "    plt.ylabel(f\"Percentage of corpus\\nmin={perc_of_corpus_min}  max={perc_of_corpus_max}\")\n",
    "    plt.xticks([])\n",
    "    plt.yticks([])\n",
    "    plt.show()"
   ]
  },
  {
   "cell_type": "markdown",
   "id": "2f7eb21c-85a1-40d5-bd95-01b4f13adbc7",
   "metadata": {},
   "source": [
    "Run the cell below to see one or more heatmap visualizations. Use the visualizations to answer the questions in the next sub part."
   ]
  },
  {
   "cell_type": "code",
   "execution_count": 70,
   "id": "de405000-db97-4736-a649-9318386944a2",
   "metadata": {},
   "outputs": [
    {
     "data": {
      "image/png": "[encoded data removed]",
      "text/plain": [
       "<Figure size 432x288 with 2 Axes>"
      ]
     },
     "metadata": {
      "needs_background": "light"
     },
     "output_type": "display_data"
    }
   ],
   "source": [
    "util_show_label_prop_accuracy(\n",
    "    perc_of_corpus_min=0.01, \n",
    "    perc_of_corpus_max=1.0, \n",
    "    perc_of_corpus_ct=5,\n",
    "    perc_unscrubbed_min=0.05,\n",
    "    perc_unscrubbed_max=1.0,\n",
    "    perc_unscrubbed_ct=5,\n",
    ")"
   ]
  },
  {
   "cell_type": "markdown",
   "id": "ebe67c53-95a5-4ebf-b1b6-2fce839bffc3",
   "metadata": {},
   "source": [
    "## 4.9 <font size=3> [2 pts] Analysis"
   ]
  },
  {
   "cell_type": "markdown",
   "id": "825b9029-4110-4eee-8c16-7fa4ea7a3d5b",
   "metadata": {},
   "source": [
    "Use the visualizations above to answer the questions below."
   ]
  },
  {
   "cell_type": "markdown",
   "id": "fef292af-9dd7-49a9-831c-c9bfa703c461",
   "metadata": {},
   "source": [
    "**Question 1.** Of the following two factors, which one does the label propagation algorithm seem most sensitive to - and why?\n",
    "* Percentage of true labels available\n",
    "* Percentage of corpus used"
   ]
  },
  {
   "cell_type": "code",
   "execution_count": 71,
   "id": "49ebffec-16be-4315-908e-76ff01f6d7aa",
   "metadata": {},
   "outputs": [],
   "source": [
    "def part_4_analysis_q1_response() -> str:\n",
    "    \"\"\"\n",
    "    return\n",
    "                  str        string that best answers the question\n",
    "    \"\"\"\n",
    "\n",
    "    #return \"percentage of true labels available because more words is always better\"\n",
    "    return \"percentage of true labels available because the algorithm will have proportionally more true data to work with\"\n",
    "    #return \"percentage of true labels available because the algorithm has to have all the labels since it is a supervised learning algorithm\"\n",
    "    #return \"percentage of corpus used because because more words is always better\"\n",
    "    #return \"percentage of corpus used because because the algorithm will have more words to work with\"\n",
    "    #return \"percentage of corpus used because just ike a LLM, label propagation needs a ton of training data\"\n",
    "#     return \"Yo\""
   ]
  },
  {
   "cell_type": "markdown",
   "id": "68944506-42e0-4471-97c2-594f8b9a62e4",
   "metadata": {},
   "source": [
    "# Part 5 <font size=3> [15 pts] NLP with a Graph Attention Network (GAT)"
   ]
  },
  {
   "cell_type": "markdown",
   "id": "7de56e03-d53d-4e9b-9887-7637b6d9e000",
   "metadata": {},
   "source": [
    "### Sentence classification <font size=3> vA : Using a single large, sparse network"
   ]
  },
  {
   "cell_type": "markdown",
   "id": "c2660ef8-7321-4391-b8bd-640749693030",
   "metadata": {},
   "source": [
    "In the prior part, we constructed a *single* network from a corpus of documents/sentences. The network was bipartite, with one node set being the individual documents/sentences, and the other being the set of all single words found in the corpus. We saw that the network was very sparse, with less than 1% of the total number of possible edges.\n",
    "\n",
    "We trained a sentence classification model on the single, large, corpus network using the semi-supervised machine learning algorithm called label propagation to perform the task of sentence classification. In particular, we trained the model to identify politically-themed statements as being attributed to one of two fictitous political parties (the Orange Party and the Green Party)."
   ]
  },
  {
   "cell_type": "markdown",
   "id": "a6770d8f-9f09-425e-9658-e01f251b3fde",
   "metadata": {},
   "source": [
    "### Sentence classification <font size=3> vB : Using many small networks and one moderately-sized, highly connected network"
   ]
  },
  {
   "cell_type": "markdown",
   "id": "dc2547fd-041e-4d59-a367-39cff099aabf",
   "metadata": {},
   "source": [
    "In this part, we will use a Graph Attention Network (GAT) - a type of Graph Neural Network (GNN) - to also perform sentence classification, but with our GAT, we'll be able to leverage new geometry, namely:\n",
    "* the graph structure of sentences, and\n",
    "* an attention mechanism that will allow words to more directly influence one another.\n",
    "\n",
    "Instead of classifying politically-themed statements according to political party, in this part we will classify sentences according to *grammatical mood*. There are four grammatical moods (declarative/statement, interrogative/question, imperative/command, and exclamatory/exclamation). We will focus just on the first three. We will assign labels in the following way:\n",
    "* 0: imperative/command\n",
    "* 1: interrogative/question\n",
    "* 2: declarative/statement"
   ]
  },
  {
   "cell_type": "markdown",
   "id": "6f07be22-7080-4847-a595-aa0fc4ea4e5f",
   "metadata": {},
   "source": [
    "## 5.1 <font size=3> [3 pts] Tokenization"
   ]
  },
  {
   "cell_type": "markdown",
   "id": "373c2bcf-a98a-44db-b1fe-801493b6dcee",
   "metadata": {},
   "source": [
    "In the body of the function below:\n",
    "1. Convert the sentence string to all lower case using `lower` (a python `str` class method).\n",
    "2. Strip out any ending punctuation such as period, question mark, or exclamation point using `rstrip` (a python `str` class method).\n",
    "3. Split the sentence over spaces using `split` (a python `str` class method)."
   ]
  },
  {
   "cell_type": "code",
   "execution_count": 72,
   "id": "13007f61-268f-48c2-a731-d8884556e8df",
   "metadata": {},
   "outputs": [],
   "source": [
    "def get_sentence_tokenized(sentence:str) -> list:\n",
    "    \"\"\"\n",
    "    params\n",
    "        sentence           str\n",
    "    return\n",
    "        sentence_copy      list[str]\n",
    "    \"\"\"\n",
    "\n",
    "    sentence_copy = sentence.lower().rstrip(\".!?\").split()\n",
    "    return sentence_copy"
   ]
  },
  {
   "cell_type": "markdown",
   "id": "2aa141e4-676a-431e-b543-535a11c80a9d",
   "metadata": {},
   "source": [
    "**Unit test**\n",
    "\n",
    "Running the cell below should yield the following output:\n",
    "\n",
    "> `['hey', 'get', 'off', 'my', 'lawn']`"
   ]
  },
  {
   "cell_type": "code",
   "execution_count": 73,
   "id": "5ee3584c-0d6c-4738-84ac-702ed0e3cc35",
   "metadata": {},
   "outputs": [
    {
     "name": "stdout",
     "output_type": "stream",
     "text": [
      "['hey', 'get', 'off', 'my', 'lawn']\n"
     ]
    }
   ],
   "source": [
    "# Run, but do not modify the contents of this cell\n",
    "sentence = \"Hey get off my lawn!\"\n",
    "sentence_tokenized = get_sentence_tokenized(sentence=sentence)\n",
    "print(sentence_tokenized)"
   ]
  },
  {
   "cell_type": "markdown",
   "id": "c3042c86-7e5b-4a0c-b05b-854a02e702fd",
   "metadata": {},
   "source": [
    "In the body of the function below:\n",
    "1. Access `nlp_data.GAT_corpus_with_labels` and unzip into one list of sentences and one list of labels.\n",
    "2. Generate:\n",
    "    * a list `tokenized` of tokenized sentences.\n",
    "    * a set `vocab` (sorted lexicographically) of words found among the sentences.\n",
    "    * a dictionary `word2idx` where the keys are the individual words of the vocabulary and the values are unique indices\n",
    "3. Return these generated items"
   ]
  },
  {
   "cell_type": "code",
   "execution_count": 74,
   "id": "6e48e63f-1e4b-4dcd-8c29-6728f3a8e1cb",
   "metadata": {},
   "outputs": [],
   "source": [
    "def get_tokenized_sentences_and_labels():\n",
    "    \"\"\"\n",
    "    return\n",
    "        tokenized         list[list[str]]\n",
    "        labels            list[int]\n",
    "        word2idx          dict[str,int]\n",
    "    \"\"\"\n",
    "    \n",
    "    sentences, labels = zip(*nlp_data.GAT_corpus_with_labels)\n",
    "    tokenized = [get_sentence_tokenized(s) for s in sentences]\n",
    "    vocab = sorted(set(word for sentence in tokenized for word in sentence))\n",
    "    word2idx = {word: idx for idx, word in enumerate(vocab)}\n",
    "    return tokenized, list(labels), word2idx"
   ]
  },
  {
   "cell_type": "markdown",
   "id": "3777f7e8-3d81-4325-ae2e-fbd4e8984a26",
   "metadata": {},
   "source": [
    "**Unit test**\n",
    "\n",
    "Running the cell below should yield the following output:\n",
    "\n",
    "> `['put', 'a', 'hat', 'on', 'the', 'cat']`\n",
    ">\n",
    "> `0`\n",
    ">\n",
    "> `7`"
   ]
  },
  {
   "cell_type": "code",
   "execution_count": 75,
   "id": "6c256b03-0c04-4a38-a09f-678cd94d2043",
   "metadata": {},
   "outputs": [
    {
     "name": "stdout",
     "output_type": "stream",
     "text": [
      "['put', 'a', 'hat', 'on', 'the', 'cat']\n",
      "0\n",
      "7\n"
     ]
    }
   ],
   "source": [
    "# Run, but do not modify the contents of this cell\n",
    "tokenized, labels, word2idx = get_tokenized_sentences_and_labels()\n",
    "print(tokenized[3])\n",
    "print(labels[3])\n",
    "print(word2idx['the'])"
   ]
  },
  {
   "cell_type": "markdown",
   "id": "7d0cf2d5-08c1-4adc-94eb-9d15308c6b26",
   "metadata": {},
   "source": [
    "## 5.2 <font size=3> [2 pts] Word embeddings"
   ]
  },
  {
   "cell_type": "markdown",
   "id": "7df4b22b-7c50-42aa-a733-6eed3fe9a3ad",
   "metadata": {},
   "source": [
    "Neural networks require numerical input, so we need a way to convert words into numerical objects. We do this in two stages:\n",
    "1. **Stage 1. One-hot encoding.** We assign to each word $w$, a vector $v_1 = \\begin{bmatrix} 0 & \\cdots & 0 & 1 & 0 & \\cdots & 0 \\end{bmatrix}$ where the vector is all zeros except for a 1 in the $j$-th position, where the word is the $j$-th word in the vocabulary.\n",
    "2. **Stage 2. Embedding into $n$-dimensional space.** We choose a dimension $n\\in\\mathbb{N}$ and assign each vector $v_1$ to a corresponding vector in $v_2\\in\\mathbb{R}^n$. Usually, the embedding dimension $n$ is far smaller than the number of words in the corpus.\n",
    "\n",
    "There is a canonical way to perform a one-hot encoding on any vocabulary. Thus, any decision related to am word embedding comes from \n",
    "* the choice of embedding dimension $n$, and\n",
    "* the specific assignment of one-hot-encoded word vectors $v_1$ to elements $v_2\\in\\mathbb{R}^n$.\n",
    "\n",
    "Thus, all the information about a word embedding is stored in the linear transformation (ie, matrix) $E = \\mathbb{R}^m\\rightarrow \\mathbb{R}^n$. Whenever we reference a word embedding (or just *embedding* for short) in this context, we will usually be referring to the matrix $E$ in particular."
   ]
  },
  {
   "cell_type": "markdown",
   "id": "305ab4eb-cf5d-454a-8482-26f8724484a6",
   "metadata": {},
   "source": [
    "The specific computational structure we use for the matrix $E$ is a torch tensor. But to keep things simple and focus more on the core concepts of this course, we provide a utlity function that returns the embedding matrix. Run the cell below to store the function in the kernel."
   ]
  },
  {
   "cell_type": "code",
   "execution_count": 76,
   "id": "9911d89d-bfe1-4eb5-b7dc-cce1afb561eb",
   "metadata": {},
   "outputs": [],
   "source": [
    "def util_get_word_embedding(word2idx, embedding_dim:int=2):\n",
    "    vocab = list(word2idx.keys())\n",
    "    embedding = torch.rand((len(vocab), embedding_dim))\n",
    "    return embedding"
   ]
  },
  {
   "cell_type": "markdown",
   "id": "eec743cc-605e-4936-9e18-6f059a1f45b5",
   "metadata": {},
   "source": [
    "**Unit test**\n",
    "\n",
    "Running the cell below should yield the following output:\n",
    "\n",
    "> `torch.Size([4, 3])`"
   ]
  },
  {
   "cell_type": "code",
   "execution_count": 77,
   "id": "f37844e1-8c49-4337-96e6-2e11e2d67d8f",
   "metadata": {},
   "outputs": [
    {
     "name": "stdout",
     "output_type": "stream",
     "text": [
      "torch.Size([4, 3])\n"
     ]
    }
   ],
   "source": [
    "# Run, but do not modify the contents of this cell\n",
    "word2idx = {\"hello\":0, \"the\":1, \"to\":2, \"world\":3}\n",
    "embedding_dim = 3\n",
    "embedding = util_get_word_embedding(word2idx=word2idx, embedding_dim=embedding_dim)\n",
    "print(embedding.shape)"
   ]
  },
  {
   "cell_type": "markdown",
   "id": "5d1a7889-9637-4dc3-9b46-ca02fe8f7e43",
   "metadata": {},
   "source": [
    "In a machine learning context, the embedding dimension is a *hyperparameter.* When we actually train our GAT model, we'll set it to be around 16. However, for the next couple of sections, we will set it at low-dimension for the sake of developing our intuition. Specifically, note that 2-dimensional vectors can be visualized as points in a 2-dimensional plane.\n",
    "\n",
    "Run the cell below, to see a visualization of words from the vocabulary we will be using being embedded into $\\mathbb{R}^2$."
   ]
  },
  {
   "cell_type": "code",
   "execution_count": 78,
   "id": "0e928d5f-e7ad-457d-9bbf-7583a7af25dd",
   "metadata": {},
   "outputs": [
    {
     "data": {
      "image/png": "[encoded data removed]",
      "text/plain": [
       "<Figure size 432x288 with 1 Axes>"
      ]
     },
     "metadata": {
      "needs_background": "light"
     },
     "output_type": "display_data"
    }
   ],
   "source": [
    "# Utility function\n",
    "def util_show_word_embedding_2d(word2idx, color=False) -> None:\n",
    "\n",
    "    embedding = util_get_word_embedding(word2idx=word2idx, embedding_dim=2)\n",
    "    embedding_matrix = embedding.numpy()\n",
    "\n",
    "    x_coords = embedding_matrix[:,0]\n",
    "    y_coords = embedding_matrix[:,1]\n",
    "    \n",
    "    words = list(word2idx.keys())\n",
    "\n",
    "    c=[]\n",
    "    for i in range(len(words)):\n",
    "        color_to_add = \"#dddddd\"\n",
    "        if color:\n",
    "            color_to_add = nlp_data.colors[i%len(words)]\n",
    "        c.append(color_to_add)\n",
    "    \n",
    "    plt.scatter(x_coords, y_coords, s=400, c=c) # Plot the points\n",
    "    \n",
    "    for i, txt in enumerate(words):\n",
    "        plt.text(x_coords[i], y_coords[i], txt, fontsize=10, ha='center')\n",
    "\n",
    "    words_str = \"\"\n",
    "    for word in words:\n",
    "        words_str += \" \" + word +\",\"\n",
    "    \n",
    "    plt.xlabel('1st dimension of the embedding')\n",
    "    plt.ylabel('2nd dimension of the embedding')\n",
    "    plt.title('Word embedding of:\\n'+words_str)\n",
    "    plt.show()\n",
    "\n",
    "    plt.show()\n",
    "\n",
    "tokenized, labels, word2idx = get_tokenized_sentences_and_labels()\n",
    "util_show_word_embedding_2d(word2idx=word2idx, color=True)"
   ]
  },
  {
   "cell_type": "markdown",
   "id": "7231fcc5-2500-4303-b78b-e0f88cbc8c31",
   "metadata": {},
   "source": [
    "In the body of the function below:\n",
    "1. Convert the embedding - of `torch.tensor` type - to a numpy `ndarray`.\n",
    "2. Then return the proper row or column of the coverted embedding that corresponds to the embedding vector associated to the word."
   ]
  },
  {
   "cell_type": "code",
   "execution_count": 79,
   "id": "06994bc8-9415-4a0c-93ab-7257a49ee89c",
   "metadata": {},
   "outputs": [],
   "source": [
    "def get_word_vec(word:str, word2idx:dict, embedding:torch.tensor) -> np.array:\n",
    "    \"\"\"\n",
    "    params\n",
    "        word              str\n",
    "        word2idx          dict[str,int]\n",
    "        embedding         torch.tensor\n",
    "    return\n",
    "        word_vec          np.array\n",
    "    \"\"\"\n",
    "\n",
    "    idx = word2idx[word]\n",
    "    embedding_np = embedding.numpy()\n",
    "    word_vec = embedding_np[idx]\n",
    "    \n",
    "    return word_vec"
   ]
  },
  {
   "cell_type": "markdown",
   "id": "d63f1e7e-1b6b-4020-8693-5eb62b95a91a",
   "metadata": {},
   "source": [
    "**Unit test**\n",
    "\n",
    "Running the cell below should yield the following output:\n",
    "\n",
    "> `[0.3   0.728]`"
   ]
  },
  {
   "cell_type": "code",
   "execution_count": 80,
   "id": "20130f13-0d8e-4086-9c3c-e9c4be2ed06a",
   "metadata": {},
   "outputs": [
    {
     "name": "stdout",
     "output_type": "stream",
     "text": [
      "[0.3   0.728]\n"
     ]
    }
   ],
   "source": [
    "# Run, but do not modify the contents of this cell\n",
    "word2idx = {\"a\":0, \"cat\":1, \"did\":2, \"hat\":3, \"is\":4, \"on\":5, \"put\":6, \"the\":7, \"was\":8,}\n",
    "embedding = torch.tensor([\n",
    "    [0.0, 0.7280],\n",
    "    [0.1, 0.7280],\n",
    "    [0.2, 0.7280],\n",
    "    [0.3, 0.7280],\n",
    "    [0.4, 0.7280],\n",
    "    [0.5, 0.7280],\n",
    "    [0.6, 0.7280],\n",
    "    [0.7, 0.7280],\n",
    "    [0.8, 0.7280],\n",
    "])\n",
    "word_vec = get_word_vec(word=\"hat\", word2idx=word2idx, embedding=embedding)\n",
    "print(word_vec)"
   ]
  },
  {
   "cell_type": "markdown",
   "id": "6280c7f3-4d5a-4b6b-ad0c-e9b35d2e0b47",
   "metadata": {},
   "source": [
    "## 5.3 <font size=3> [2 pts] Node features"
   ]
  },
  {
   "cell_type": "markdown",
   "id": "9944c517-cdee-421a-80f8-bebf315eb58f",
   "metadata": {},
   "source": [
    "For our purposes, from any corpus of natural language data, the first step is to embed the individual words that make up the corpus into some $n$-dimensional space. So that we could visualize how this works, we did an example set of word embeddings into 2-dimensional space. However, just 2 dimensions is pretty tight. Thought of another way, each word only has 2 features, which - for those of you who know much about machine learning - is probably too few features to be able to train useful models for this classification task. What should we do then?"
   ]
  },
  {
   "cell_type": "markdown",
   "id": "0dc47c82-e84e-4d02-a6cb-eda53f1ba748",
   "metadata": {},
   "source": [
    "One answer is increase the number of features (ie, the embedding dimension). Generally speaking, the greater the dimension, the greater then number of hidden characteristics of the data that a machine learning model can learn. \n",
    "\n",
    "Suppose we want to increase the embedding dimension to 8 so that we have 8 features per word. That seems good, but now how do visualize that? Something we *don't* do is to try to visualize the points sitting in 8-dimensional space, because we can't. Our ability to visualize generally stops at dimension 3 (or 4, maybe 5 if you've practiced a lot). So now, instead of letting a node's visual placement in $R^n$ tell us what it's features are, instead, we'll show a list/vector of feature values as part of the node name. Run the cell below to see conceptually how this works."
   ]
  },
  {
   "cell_type": "code",
   "execution_count": 81,
   "id": "451fe0a0-55da-4bce-a58a-6fe7d49751d9",
   "metadata": {},
   "outputs": [
    {
     "data": {
      "image/png": "[encoded data removed]",
      "text/plain": [
       "<Figure size 720x288 with 1 Axes>"
      ]
     },
     "metadata": {
      "needs_background": "light"
     },
     "output_type": "display_data"
    }
   ],
   "source": [
    "# Utility function\n",
    "def util_show_word_embedding_as_features(word2idx, embedding_dim:int=16) -> None:\n",
    "\n",
    "    plt.figure(figsize=(10,4))\n",
    "    \n",
    "    x = [word2idx[word] for word in word2idx]\n",
    "    y = np.ones(shape=(len(x),))\n",
    "    embedding = util_get_word_embedding(word2idx=word2idx, embedding_dim=embedding_dim)\n",
    "    embedding_matrix = embedding.numpy()\n",
    "\n",
    "    c = nlp_data.colors[:len(x)]\n",
    "    plt.scatter(x=x, y=y, c=c, s=1200)\n",
    "\n",
    "    words = list(word2idx.keys())\n",
    "    for i, txt in enumerate(words):\n",
    "        for j in range(embedding_matrix.shape[1]):\n",
    "            txt += \"\\n\" + \"{:.2f}\".format(embedding_matrix[i,j])\n",
    "        plt.text(x[i], y[i]-0.03, txt, fontsize=10, ha='left')\n",
    "    \n",
    "    plt.show()\n",
    "\n",
    "tokenized, labels, word2idx = get_tokenized_sentences_and_labels()\n",
    "util_show_word_embedding_as_features(word2idx, embedding_dim=8)"
   ]
  },
  {
   "cell_type": "markdown",
   "id": "ef535f0e-bb36-45be-b48d-9656ca72d18f",
   "metadata": {},
   "source": [
    "In the body of the function below, choose the statement that best answers the question:\n",
    "\n",
    "**Question:** If the size of a vocabulary is 37 unique words and the embedding dimension is 14, how many features will each word node have?"
   ]
  },
  {
   "cell_type": "code",
   "execution_count": 82,
   "id": "714b7d1e-c1b5-4e04-9a86-c33b4305648b",
   "metadata": {},
   "outputs": [],
   "source": [
    "def part_5_node_feature_q_response() -> str:\n",
    "    \"\"\"\n",
    "    return\n",
    "                  str        string that best answers the question\n",
    "    \"\"\"\n",
    "\n",
    "    #return \"37 since each word gets a feature for each word and itself\"\n",
    "    return \"14 since the embedding dimension gives one feature per coordinate in R^{14}\"\n",
    "    #return \"51 since 51 = 37 + 14, where each node gets a feature per word and a feature per dimension in R^{14}\"\n",
    "    #return \"23 since 23 = 37 - 14, where the only valuable features are those than can be applied to words more than the embedding dimension\"\n",
    "    #return \"518 since 518 = 37 * 14, where each node gets one feature per element in the embedding tensor/matrix\"\n",
    "    #return \"2 since 37/14 approx 2.62, where each feature represents the compression of the vocabulary down into a 14-dimensional real space\"\n",
    "#     return \"Yo\""
   ]
  },
  {
   "cell_type": "markdown",
   "id": "27317bdb-b189-427e-9349-803174002856",
   "metadata": {},
   "source": [
    "## 5.4 <font size=3> [3 pts] Message passing pt 1"
   ]
  },
  {
   "cell_type": "markdown",
   "id": "d4bba5db-2afd-4d99-bdb8-a4a311d49a5f",
   "metadata": {},
   "source": [
    "As cool as this in of itself, we haven't even gotten to the best part - the graphs! Any graph neural network uses the structure of a graph in order to learn. In particular, it does this through the act of **message passing**. Simply, this is process of nodes iteratively sharing information about their features with their neighbors. "
   ]
  },
  {
   "cell_type": "markdown",
   "id": "e1cd02eb-528d-4d31-b84a-8fb26f61ac5c",
   "metadata": {},
   "source": [
    "You can think of this as all the nodes iteratively passing each other messages back and forth over a series of discrete time steps. After one time step, a node will have received messages from their neighbors (those nodes that are 1 edge-hop away). After two time steps, a node will have received a message from each of their *neighbors'* neighbors (2 edge-hops away). Following another time step, they will have received a message from their neighbor's neighbor's neighbors (3 edge-hops away). Increase the time step yet again and...well, you get the idea."
   ]
  },
  {
   "cell_type": "markdown",
   "id": "941231d7-4b37-49a9-90ad-5edbee993fe0",
   "metadata": {},
   "source": [
    "In the body of the function below:\n",
    "1. Construct a graph based on the passed `sentence` and `word2idx`. For each word in the sentence, add a node to an undirected graph with node name the index of the word from word2idx. Then for each pair of successive words in the sentence, add an edge between their respective indices in the graph. For example, if the sentence was \"the cat in the hat\", there would be the following edges:\n",
    "    * an edge between the index of \"the\" and the index of \"cat\"\n",
    "    * an edge between the index of \"cat\" and the index of \"in\"\n",
    "    * an edge between the index of \"in\" and the index of \"the\"\n",
    "    * an edge between the index of \"the\" and the index of \"hat'\n",
    "2. Once the graph is constructed, add a node attribute with name `\"features\"` to each node that is the respective row from the embedding matrix that represents the nodes features/$n$-dimensional embedding vector.\n",
    "3. Return the constructed graph"
   ]
  },
  {
   "cell_type": "code",
   "execution_count": 83,
   "id": "ed53967b-4bd7-44d9-bd43-1f12e10130be",
   "metadata": {},
   "outputs": [],
   "source": [
    "def get_sentence_idx_graph(sentence:str, word2idx:dict, embedding_matrix:np.array) -> nx.Graph:\n",
    "    \"\"\"\n",
    "    params\n",
    "        sentence              str\n",
    "        word2idx              dict[str,int]\n",
    "        embedding_matrix      np.array\n",
    "    return\n",
    "        G_idxs                nx.graph\n",
    "    \"\"\"\n",
    "\n",
    "    G_idxs = nx.Graph()\n",
    "    words = sentence.lower().rstrip(\".!?\").split()\n",
    "\n",
    "    for i, w in enumerate(words):\n",
    "        idx = word2idx[w]\n",
    "        if not G_idxs.has_node(idx):\n",
    "            G_idxs.add_node(idx)\n",
    "        if i > 0:\n",
    "            prev = word2idx[words[i - 1]]\n",
    "            G_idxs.add_edge(prev, idx)\n",
    "\n",
    "    for node in G_idxs.nodes():\n",
    "        G_idxs.nodes[node]['features'] = embedding_matrix[node]\n",
    "\n",
    "    \n",
    "    return G_idxs"
   ]
  },
  {
   "cell_type": "markdown",
   "id": "96f4c9f7-5f9f-4df5-922d-624ebe4c1baa",
   "metadata": {},
   "source": [
    "**Unit test**\n",
    "\n",
    "Running the cell below should yield the following output:\n",
    "\n",
    "> `[0.6   0.728]`"
   ]
  },
  {
   "cell_type": "code",
   "execution_count": 84,
   "id": "db5f3aef-9545-4de0-ae2f-81376e43ce10",
   "metadata": {},
   "outputs": [
    {
     "name": "stdout",
     "output_type": "stream",
     "text": [
      "[0.6   0.728]\n"
     ]
    }
   ],
   "source": [
    "# Run, but do not modify the contents of this cell\n",
    "sentence = \"put the hat on the cat\"\n",
    "word2idx = {\"a\":0, \"cat\":1, \"did\":2, \"hat\":3, \"is\":4, \"on\":5, \"put\":6, \"the\":7, \"was\":8,}\n",
    "embedding = torch.tensor([\n",
    "    [0.0, 0.7280],\n",
    "    [0.1, 0.7280],\n",
    "    [0.2, 0.7280],\n",
    "    [0.3, 0.7280],\n",
    "    [0.4, 0.7280],\n",
    "    [0.5, 0.7280],\n",
    "    [0.6, 0.7280],\n",
    "    [0.7, 0.7280],\n",
    "    [0.8, 0.7280],\n",
    "])\n",
    "embedding_matrix = embedding.numpy()\n",
    "G_idx = get_sentence_idx_graph(\n",
    "    sentence=sentence, \n",
    "    word2idx=word2idx, \n",
    "    embedding_matrix=embedding_matrix\n",
    ")\n",
    "print(nx.get_node_attributes(G_idx,\"features\")[6])"
   ]
  },
  {
   "cell_type": "markdown",
   "id": "e2f1aebc-7b72-49f7-9860-7fd827e91e88",
   "metadata": {},
   "source": [
    "Message passing is an iterative process on a graph involving all nodes in that graph at each iteration. This can be a little tricky to visualize, but if we stick to the small graph of a single sentence, we should be able to come up with something nice."
   ]
  },
  {
   "cell_type": "markdown",
   "id": "2fb2e30b-5f87-48c5-8ff2-faf8c5b17a0d",
   "metadata": {},
   "source": [
    "The embedding matrix holds all the feature information for nodes, but message passing requires graph-level information - in particular, which words are the neighbors of a given word.\n",
    "\n",
    "In the body of the function below:\n",
    "1. Use the `get_sentence_idx_graph` function to get a sentence graph.\n",
    "2. Construct a *new* embedding matrix where the $i$-th row of the new embedding matrix is\n",
    "    * the same as the $i$-th row of the argument `embedding_matrix` if $i$ is not the index of a word node in the sentence graph, and\n",
    "    * otherwise, is the vector sum $\\textbf{v}_i + \\omega * \\sum_{k \\text{ nbr of } i }(\\textbf{v}_k - \\textbf{v}_i)$, where $\\textbf{v}_i$ is the $i$-th row/feature vector of the embedding matrix, and $\\textbf{v}_k$ is the row/feature vector of a neighbor $k$ of $i$. The sum is done over all neighbors of $i$. Note that this information needs to be stored in the *new* matrix."
   ]
  },
  {
   "cell_type": "code",
   "execution_count": 85,
   "id": "00953767-c5ee-471a-99dd-4f989c2ea107",
   "metadata": {},
   "outputs": [],
   "source": [
    "def message_pass_on_embedding_matrix(sentence, word2idx, embedding_matrix, msg_weight=0.2):\n",
    "    \"\"\"\n",
    "    params\n",
    "        sentence                  str\n",
    "        word2idx                  dict[str,int]\n",
    "        embedding_matrix          np.array\n",
    "        msg_weight                float\n",
    "    return\n",
    "        embedding_matrix_new      np.array\n",
    "    \"\"\"\n",
    "    \n",
    "    G = get_sentence_idx_graph(sentence, word2idx, embedding_matrix)\n",
    "    embedding_matrix_new = np.zeros_like(embedding_matrix)\n",
    "\n",
    "    for i in range(embedding_matrix.shape[0]):\n",
    "        if i in G.nodes:\n",
    "            vi = embedding_matrix[i]\n",
    "            neighs = list(G.neighbors(i))\n",
    "            if neighs:\n",
    "                neighbor_sum = sum(embedding_matrix[k] - vi for k in neighs)\n",
    "                embedding_matrix_new[i] = vi + msg_weight * neighbor_sum\n",
    "            else:\n",
    "                embedding_matrix_new[i] = vi\n",
    "        else:\n",
    "            embedding_matrix_new[i] = embedding_matrix[i]\n",
    "    \n",
    "    return embedding_matrix_new"
   ]
  },
  {
   "cell_type": "markdown",
   "id": "88c83b0a-f834-4d64-bbc8-7354a09ee639",
   "metadata": {},
   "source": [
    "Run the cell below to setup a utility function for visualizing message passing."
   ]
  },
  {
   "cell_type": "code",
   "execution_count": 86,
   "id": "c801f77a-384c-4103-9af1-b1b9e5393526",
   "metadata": {},
   "outputs": [],
   "source": [
    "# Utility function\n",
    "def util_show_message_passing(\n",
    "    sentence, \n",
    "    word2idx, \n",
    "    embedding_matrix, \n",
    "    msg_weight=0.2,\n",
    "    num_iter=3,\n",
    "):\n",
    "\n",
    "    # Get sentence graph\n",
    "    G_idxs = get_sentence_idx_graph(\n",
    "        sentence=sentence, \n",
    "        word2idx=word2idx, \n",
    "        embedding_matrix=embedding_matrix\n",
    "    )\n",
    "\n",
    "    plt.figure(figsize=(8, 6))\n",
    "    pos = nx.kamada_kawai_layout(G_idxs)\n",
    "\n",
    "    # Draw text on the graph showing the words associated with the node index\n",
    "    for idx in list(G_idxs.nodes):\n",
    "        word = list(word2idx.keys())[idx]\n",
    "        x, y = pos[idx]\n",
    "        y += 0.1\n",
    "        plt.text(x,y,word, fontsize=15)\n",
    "    \n",
    "    for i in range(num_iter+1):\n",
    "\n",
    "        # Determine colors based on 3-dim feature values\n",
    "        node_colors = []\n",
    "        for idx in list(G_idxs.nodes):\n",
    "            r, g, b = list((255*embedding_matrix[idx]).astype(int)) \n",
    "            hex_color = f\"#{r:02x}{g:02x}{b:02x}\"\n",
    "            node_colors.append(hex_color)\n",
    "                          \n",
    "        # Apply a slight vertical offset for stacking effect\n",
    "        offset_pos = {node: (p[0], p[1] - i * 0.2) for node, p in pos.items()}\n",
    "    \n",
    "        # Draw the current graph copy\n",
    "        nx.draw_networkx_nodes(G_idxs, offset_pos, node_color=node_colors, node_size=500, alpha=1.0)\n",
    "        nx.draw_networkx_edges(G_idxs, offset_pos, alpha=0.5)\n",
    "        nx.draw_networkx_labels(G_idxs, offset_pos, font_size=8)\n",
    "        \n",
    "        # Perform the message passing\n",
    "        embedding_matrix = message_pass_on_embedding_matrix(\n",
    "            sentence=sentence, \n",
    "            word2idx=word2idx, \n",
    "            embedding_matrix=embedding_matrix, \n",
    "            msg_weight=msg_weight,\n",
    "        )\n",
    "\n",
    "    plt.title(\"Message passing\")\n",
    "    plt.axis('off')\n",
    "    plt.show()"
   ]
  },
  {
   "cell_type": "markdown",
   "id": "df740aca-9215-4818-9dac-68a62f6007a1",
   "metadata": {},
   "source": [
    "**Unit test**\n",
    "\n",
    "Running the cell below should show sequence of 2-node graphs. The graph at the top should show the nodes 1 (for \"cat\") in blue and 7 (for \"the\") in red. Then there should be five successive graphs that show the nodes directly influencing one another. Since the red node will add positive value to the R component of the blue node, the blue node will become more purple over time. And since the blue node adds positive value to the B component of the red node, the red node should become more purple over time. "
   ]
  },
  {
   "cell_type": "code",
   "execution_count": 87,
   "id": "4daa6353-e55f-43c4-a00a-c4b81484c457",
   "metadata": {},
   "outputs": [
    {
     "data": {
      "image/png": "[encoded data removed]",
      "text/plain": [
       "<Figure size 576x432 with 1 Axes>"
      ]
     },
     "metadata": {},
     "output_type": "display_data"
    }
   ],
   "source": [
    "# Run, but do not modify the contents of this cell\n",
    "sentence = \"the cat\"\n",
    "word2idx = {\"a\":0, \"cat\":1, \"did\":2, \"hat\":3, \"is\":4, \"on\":5, \"put\":6, \"the\":7, \"was\":8,}\n",
    "embedding = torch.tensor([\n",
    "    [0.12345678, 0.98765432, 0.55555555],   # a       0\n",
    "    [0.00000000, 0.00000000, 1.00000000],   # cat     1     BLUE\n",
    "    [0.44444444, 0.66666666, 0.88888888],   # did     2\n",
    "    [0.09876543, 0.12345678, 0.98765432],   # hat     3\n",
    "    [0.55555555, 0.11111111, 0.22222222],   # is      4\n",
    "    [0.33333333, 0.44444444, 0.66666666],   # on      5\n",
    "    [0.88888888, 0.09876543, 0.12345678],   # put     6\n",
    "    [1.00000000, 0.00000000, 0.00000000],   # the     7     RED\n",
    "    [0.22222222, 0.33333333, 0.44444444],   # was     8\n",
    "])\n",
    "embedding_matrix = embedding.numpy()\n",
    "util_show_message_passing(\n",
    "    sentence=sentence,\n",
    "    word2idx=word2idx,\n",
    "    embedding_matrix=embedding_matrix,\n",
    "    msg_weight=0.2,\n",
    "    num_iter=5,\n",
    ")"
   ]
  },
  {
   "cell_type": "markdown",
   "id": "3253106b-7102-4525-8c0d-9dea0b35553a",
   "metadata": {},
   "source": [
    "## 5.5 <font size=3> [2 pts] Message passing pt 2"
   ]
  },
  {
   "cell_type": "markdown",
   "id": "b1e50412-163b-4427-bb05-0e152c538d93",
   "metadata": {},
   "source": [
    "Run the cell below to develop an intuitive sense for message passing. Modify only the ADJUSTABLE PARAMETERS:\n",
    "* **Message weight.** choose any number between 0.0 and 1.0, and\n",
    "* **Sentence.** Choose any sentence in all lower case letters, with no special characters or punctuation, containing only the words 'a', 'cat', 'did', 'hat', 'is', 'on', 'put', 'the', 'was'."
   ]
  },
  {
   "cell_type": "code",
   "execution_count": 88,
   "id": "4fc0d856-cbef-4471-bc08-d2ffb8e25218",
   "metadata": {},
   "outputs": [
    {
     "data": {
      "image/png": "[encoded data removed]",
      "text/plain": [
       "<Figure size 576x432 with 1 Axes>"
      ]
     },
     "metadata": {},
     "output_type": "display_data"
    }
   ],
   "source": [
    "# Run this cell, modifying the contents only as indicated\n",
    "\n",
    "# ADJUSTABLE PARAMETERS\n",
    "SENTENCE = \"the cat is on the\"\n",
    "MSG_WEIGHT = 0.15\n",
    "\n",
    "# Do not modify any lines below here\n",
    "word2idx = {\"a\":0, \"cat\":1, \"did\":2, \"hat\":3, \"is\":4, \"on\":5, \"put\":6, \"the\":7, \"was\":8,}\n",
    "embedding = torch.tensor([\n",
    "    [0.5, 0.5, 0.5],   # a       0\n",
    "    [0.0, 0.0, 0.0],   # cat     1\n",
    "    [0.0, 0.0, 1.0],   # did     2\n",
    "    [0.0, 1.0, 0.0],   # hat     3\n",
    "    [0.0, 1.0, 1.0],   # is      4\n",
    "    [1.0, 0.0, 0.0],   # on      5\n",
    "    [1.0, 0.0, 1.0],   # put     6\n",
    "    [1.0, 1.0, 0.0],   # the     7\n",
    "    [1.0, 1.0, 1.0],   # was     8\n",
    "])\n",
    "embedding_matrix = embedding.numpy()\n",
    "util_show_message_passing(\n",
    "    sentence=SENTENCE,\n",
    "    word2idx=word2idx,\n",
    "    embedding_matrix=embedding_matrix,\n",
    "    msg_weight=MSG_WEIGHT,\n",
    "    num_iter=5,\n",
    ")"
   ]
  },
  {
   "cell_type": "markdown",
   "id": "91106f2f-20b9-48c2-917b-9e6020f724b1",
   "metadata": {},
   "source": [
    "**Question:** Consider the sentence fragments (1) \"the cat is on the\" and (2) \"the cat is the hat\". In the first sentence fragment, the word \"the\" moves from bright yellow to a muddy orange. In the second fragment, the word \"the\" moves from bright yellow to relatively bright green. This is because..."
   ]
  },
  {
   "cell_type": "code",
   "execution_count": 89,
   "id": "d6c12208-f7d4-4473-bfad-9cde481e6ebb",
   "metadata": {},
   "outputs": [],
   "source": [
    "def part_5_message_passing_q_response() -> str:\n",
    "    \"\"\"\n",
    "    return\n",
    "                  str        string that best answers the question\n",
    "    \"\"\"\n",
    "\n",
    "    #return \"...of the stochasticity involved in message passing.\"\n",
    "    #return \"...in the first fragment, all the neighboring nodes are orange, while in the second fragment, all the nodes are green\"\n",
    "    #return \"...in the first fragment, there is a muddy brown neighbor node that heavily influences it\"\n",
    "    return \"...in the second fragment, the -the- node has a cyan neighbor, which when combined with yellow gives green and the other neighbors only reinforce this greenness\"\n",
    "    #return \"...in both fragments, the word the only has one neighbor\"\n",
    "    #return \"...in the first fragment, the word -is- never influences the word -the-\"\n",
    "#     return \"Yo\""
   ]
  },
  {
   "cell_type": "markdown",
   "id": "b49ee842-ae71-4f98-bf80-ead56f8cd11b",
   "metadata": {},
   "source": [
    "## 5.6 <font size=3> [1 pts] Pooling node features to get a graph-level label"
   ]
  },
  {
   "cell_type": "markdown",
   "id": "e7bc9da9-41f9-41be-9c33-058224a0f890",
   "metadata": {},
   "source": [
    "So far, we have discussed features of nodes, but our ultimate goal is to classify sentences. That is, for any given sentence, we want to assign a single integer to it (a 0 if the sentence is a command, a 1 if it is a question, and a 2 if it is a statement). So how do we turn the set of all those feature values that we see underneath the words in those sentence graphs into a single number? There are many ways to do it, but the way we'll pick is to just take their collective average. This is called *global average pooling*."
   ]
  },
  {
   "cell_type": "markdown",
   "id": "fd748b73-104e-4d67-9111-cbf32d1231e6",
   "metadata": {},
   "source": [
    "We'll get to using a full GAT soon, but let's build one final piece of intuition before we do."
   ]
  },
  {
   "cell_type": "markdown",
   "id": "0ff34c7f-c0cc-4843-9fe0-6483ede23c4b",
   "metadata": {},
   "source": [
    "In the body of the function below:\n",
    "1. For each *unique* word in the sentence, find its set of feature values from the embedding matrix, add its values to a list, and take the total mean of all those values.\n",
    "2. Return this mean."
   ]
  },
  {
   "cell_type": "code",
   "execution_count": 90,
   "id": "7a2f2dc2-a5b5-4c4e-b29b-028e6579d170",
   "metadata": {},
   "outputs": [],
   "source": [
    "def get_global_average_pooling(sentence, word2idx, embedding_matrix) -> float:\n",
    "    \"\"\"\n",
    "    params\n",
    "        sentence               str\n",
    "        word2idx               dict[str,int]\n",
    "        embedding_matrix       np.array\n",
    "    return\n",
    "        gap                    float\n",
    "    \"\"\"\n",
    "\n",
    "    words = sentence.lower().rstrip(\".!?\").split()\n",
    "    uniques = set(words)\n",
    "    \n",
    "    vs = [embedding_matrix[word2idx[w]] for w in uniques if w in word2idx]\n",
    "    \n",
    "    if not vs:\n",
    "        return 0.0\n",
    "    \n",
    "    gap = np.mean(vs)\n",
    "    \n",
    "    return gap"
   ]
  },
  {
   "cell_type": "markdown",
   "id": "9ba6b9c6-8999-4e9a-bc6d-52604f0064a1",
   "metadata": {},
   "source": [
    "**Unit test**\n",
    "\n",
    "Running the cell below should show the following output.\n",
    "\n",
    "> '0.4667'"
   ]
  },
  {
   "cell_type": "code",
   "execution_count": 91,
   "id": "e65f3dc7-1e5f-46b2-8cbf-55ee7a95bd34",
   "metadata": {},
   "outputs": [
    {
     "name": "stdout",
     "output_type": "stream",
     "text": [
      "0.4167\n"
     ]
    }
   ],
   "source": [
    "# Run, but do not modify the contents of this cell\n",
    "sentence = \"the cat is on the\"\n",
    "word2idx = {\"a\":0, \"cat\":1, \"did\":2, \"hat\":3, \"is\":4, \"on\":5, \"put\":6, \"the\":7, \"was\":8,}\n",
    "embedding = torch.tensor([\n",
    "    [0.5, 0.5, 0.5],   # a       0\n",
    "    [0.0, 0.0, 0.0],   # cat     1\n",
    "    [0.0, 0.0, 1.0],   # did     2\n",
    "    [0.0, 1.0, 0.0],   # hat     3\n",
    "    [0.0, 1.0, 1.0],   # is      4\n",
    "    [1.0, 0.0, 0.0],   # on      5\n",
    "    [1.0, 0.0, 1.0],   # put     6\n",
    "    [1.0, 1.0, 0.0],   # the     7\n",
    "    [1.0, 1.0, 1.0],   # was     8\n",
    "])\n",
    "embedding_matrix = embedding.numpy()\n",
    "gap = get_global_average_pooling(\n",
    "    sentence=sentence,\n",
    "    word2idx=word2idx, \n",
    "    embedding_matrix=embedding_matrix,\n",
    ")\n",
    "print(f\"{gap:.4f}\")"
   ]
  },
  {
   "cell_type": "markdown",
   "id": "3745df66-65f2-47bf-85b0-23d06e67094b",
   "metadata": {},
   "source": [
    "## 5.7 <font size=3> [0 pts] Training a GAT network "
   ]
  },
  {
   "cell_type": "markdown",
   "id": "5e5ffdc9-8935-45a7-99a9-31e2945297e4",
   "metadata": {},
   "source": [
    "Thus far in this part of the assignment, we have developed the intuition behind the key components of a Graph Attention Network (GAT), which is a particular type of Graph Neural Network (GNN). The primary mechanism of every GNN is *message passing.* This was explored in the previous subparts. "
   ]
  },
  {
   "cell_type": "markdown",
   "id": "e81bcbce-d0fc-425f-9b37-8f2854198ea4",
   "metadata": {},
   "source": [
    "The core extension from general GNN to GAT is the addition of an *attention.* This is essentially the tracking of learnable edge weight parameters in a fully-connected graph. In this application, the fully connected graph where attention is tracked has token words as nodes and attention weights stored along the edges between those words. This tracks how much a given token word should weigh information passed to it from any other token word in a sentence graph."
   ]
  },
  {
   "cell_type": "markdown",
   "id": "f7fec84a-9466-4dbe-ab53-a423f425e04a",
   "metadata": {},
   "source": [
    "Setting up a GAT network from scratch is currently beyond the scope of this course. Thus, we provide a pre-assembled GAT-based sentence classifier class that fits the particular application of this part of the assignment."
   ]
  },
  {
   "cell_type": "markdown",
   "id": "6d5e57b9-58da-48bd-939f-17035d91280f",
   "metadata": {},
   "source": [
    "First, run the cell below to set up the embedding that will be used. It should display the following as output.\n",
    "\n",
    "> `[0.5488 0.7152 0.6028]`"
   ]
  },
  {
   "cell_type": "code",
   "execution_count": 92,
   "id": "c0a2b351-f831-4cf5-b942-a1c0f267d852",
   "metadata": {},
   "outputs": [
    {
     "name": "stdout",
     "output_type": "stream",
     "text": [
      "[0.5488 0.7152 0.6028]\n"
     ]
    }
   ],
   "source": [
    "# Run, but do not modify the contents of this cell\n",
    "tokenized, labels, word2idx = get_tokenized_sentences_and_labels()\n",
    "np.random.seed(0)\n",
    "embedding = torch.tensor(np.random.rand(9, 16)).float()\n",
    "print(f\"{np.round(embedding.numpy()[0,:3],4)}\")"
   ]
  },
  {
   "cell_type": "markdown",
   "id": "8109c821-c11b-4da0-8eda-0b7b13a44fb4",
   "metadata": {},
   "source": [
    "Now run the utility function cells below."
   ]
  },
  {
   "cell_type": "code",
   "execution_count": 93,
   "id": "3823b8ec-0661-4a05-b78f-a1d0650550c3",
   "metadata": {},
   "outputs": [],
   "source": [
    "# Utility function\n",
    "def util_get_train_test_split(tokenized, labels, test_size=0.5, show=False):\n",
    "\n",
    "    tokenized_train, tokenized_test, labels_train, labels_test = train_test_split(\n",
    "        tokenized, \n",
    "        labels, \n",
    "        test_size=test_size, \n",
    "        random_state=0\n",
    "        )\n",
    "\n",
    "    if show:\n",
    "        print(\"num of training sentences : \", len(tokenized_train))\n",
    "        print(\"num of test sentences     : \", len(tokenized_test))\n",
    "        print(\"tokenized_train[0]        : \", tokenized_train[0])\n",
    "        print(\"tokenized_train[1]        : \", tokenized_train[1])\n",
    "\n",
    "    return tokenized_train, tokenized_test, labels_train, labels_test"
   ]
  },
  {
   "cell_type": "code",
   "execution_count": 94,
   "id": "3a608e5d-e63b-4e68-83a9-76ac793993ac",
   "metadata": {},
   "outputs": [],
   "source": [
    "# Utility function\n",
    "def util_get_trained_GAT(\n",
    "    tokenized_train:list=[],\n",
    "    labels_train:list=[],\n",
    "    lr=0.01,\n",
    "    epochs=100,\n",
    "    show=False,\n",
    "    ):\n",
    "    \n",
    "    model = nlp_data.GATSentenceClassifier()\n",
    "    model.fit(\n",
    "        tokenized=tokenized_train, \n",
    "        labels=labels_train, \n",
    "        word2idx=word2idx, \n",
    "        embedding=embedding, \n",
    "        lr=lr,\n",
    "        epochs=epochs,\n",
    "        show=show,\n",
    "        )\n",
    "\n",
    "    return model"
   ]
  },
  {
   "cell_type": "markdown",
   "id": "b019237f-a8ac-4d59-9ea6-3c153076a9a6",
   "metadata": {},
   "source": [
    "**Unit test**\n",
    "\n",
    "Running the cell below should show the output shown as a comment below it:"
   ]
  },
  {
   "cell_type": "code",
   "execution_count": 95,
   "id": "88e6c067-f36a-415a-b908-19aea63420ca",
   "metadata": {},
   "outputs": [
    {
     "name": "stdout",
     "output_type": "stream",
     "text": [
      "num of training sentences :  20\n",
      "num of test sentences     :  20\n",
      "tokenized_train[0]        :  ['the', 'cat', 'put', 'a', 'hat', 'on']\n",
      "tokenized_train[1]        :  ['is', 'the', 'hat', 'on', 'the', 'cat']\n",
      "\n",
      "GATSentenceClassifier's architecture has been set\n",
      "embedding_dim   :  16\n",
      "heads           :  2\n",
      "hidden_channels :  16\n",
      "num_classes     :  3\n",
      "Layer setup     : GATConv layer 1\n",
      "Layer setup     : GATConv layer 2\n",
      "Layer setup     : global mean pool\n",
      "Layer setup     : linear (identity)\n",
      "Optimizer setup : Adam : lr = 0.01\n",
      "\n",
      "Beginning GATSentenceClassifier training...\n"
     ]
    },
    {
     "name": "stderr",
     "output_type": "stream",
     "text": [
      "C:\\Users\\yeyan\\anaconda3\\lib\\site-packages\\torch_geometric\\deprecation.py:26: UserWarning:\n",
      "\n",
      "'data.DataLoader' is deprecated, use 'loader.DataLoader' instead\n",
      "\n"
     ]
    },
    {
     "name": "stdout",
     "output_type": "stream",
     "text": [
      "Epoch 0, loss 23.6150\n",
      "Epoch 10, loss 17.6130\n",
      "Epoch 20, loss 0.3675\n",
      "Epoch 30, loss 0.0685\n",
      "Epoch 40, loss 0.0273\n",
      "Epoch 50, loss 0.0164\n",
      "Epoch 60, loss 0.0102\n",
      "Epoch 70, loss 0.0069\n",
      "Epoch 80, loss 0.0054\n",
      "Epoch 90, loss 0.0038\n",
      "\n",
      "GTASentenceClassifier accuracy report\n",
      "num correctly predicted :  20\n",
      "num total               :  20\n",
      "accuracy                :   1.000\n",
      "accuracy (percent)      :  100.0%\n"
     ]
    }
   ],
   "source": [
    "# Run, but do not modify the contents of this cell\n",
    "tokenized_train, tokenized_test, labels_train, labels_test = util_get_train_test_split(\n",
    "    tokenized, \n",
    "    labels, \n",
    "    test_size=0.5, \n",
    "    show=True,\n",
    ")\n",
    "model = util_get_trained_GAT(\n",
    "    tokenized_train=tokenized_train, \n",
    "    labels_train=labels_train,\n",
    "    lr=0.01,\n",
    "    epochs=100,\n",
    "    show=True,\n",
    ")\n",
    "labels_predicted = model.evaluate(\n",
    "    tokenized=tokenized_test, \n",
    "    labels_true=labels_test, \n",
    "    show=True\n",
    ")"
   ]
  },
  {
   "cell_type": "code",
   "execution_count": 96,
   "id": "26e28e14-6a2f-4747-aeb2-41085a9a9e26",
   "metadata": {},
   "outputs": [],
   "source": [
    "\"\"\"\n",
    "num of training sentences :  20\n",
    "num of test sentences     :  20\n",
    "tokenized_train[0]        :  ['the', 'cat', 'put', 'a', 'hat', 'on']\n",
    "tokenized_train[1]        :  ['is', 'the', 'hat', 'on', 'the', 'cat']\n",
    "\n",
    "GATSentenceClassifier's architecture has been set\n",
    "embedding_dim   :  16\n",
    "heads           :  2\n",
    "hidden_channels :  16\n",
    "num_classes     :  3\n",
    "Layer setup     : GATConv layer 1\n",
    "Layer setup     : GATConv layer 2\n",
    "Layer setup     : global mean pool\n",
    "Layer setup     : linear (identity)\n",
    "Optimizer setup : Adam : lr = 0.01\n",
    "\n",
    "Beginning GATSentenceClassifier training...\n",
    "Epoch  0, loss ???   (between 19.0-30.0)\n",
    "Epoch 10, loss ???\n",
    "Epoch 20, loss ???\n",
    "Epoch 30, loss ???\n",
    "Epoch 40, loss ???\n",
    "Epoch 50, loss ???\n",
    "Epoch 60, loss ???\n",
    "Epoch 70, loss ???\n",
    "Epoch 80, loss ???\n",
    "Epoch 90, loss ???  (less than 0.01)\n",
    "\n",
    "GTASentenceClassifier accuracy report\n",
    "num correctly predicted :  20\n",
    "num total               :  20\n",
    "accuracy                :   1.000\n",
    "accuracy (percent)      :  100.0%\n",
    "\"\"\"\n",
    "\n",
    "pass"
   ]
  },
  {
   "cell_type": "markdown",
   "id": "138387ae-cff0-4b85-84cf-afe801cccd50",
   "metadata": {},
   "source": [
    "## 5.8 <font size=3> [0 pts] Experiments"
   ]
  },
  {
   "cell_type": "markdown",
   "id": "29cb5169-54b1-4db3-b5a0-43105841cbe3",
   "metadata": {},
   "source": [
    "Run the cell below any number of times, changing only the hyperparameters, in order to answer the analysis questions below."
   ]
  },
  {
   "cell_type": "code",
   "execution_count": 97,
   "id": "a6ba52d7-2435-4c58-9495-0991c2047590",
   "metadata": {},
   "outputs": [
    {
     "name": "stdout",
     "output_type": "stream",
     "text": [
      "num of training sentences :  20\n",
      "num of test sentences     :  20\n",
      "tokenized_train[0]        :  ['the', 'cat', 'put', 'a', 'hat', 'on']\n",
      "tokenized_train[1]        :  ['is', 'the', 'hat', 'on', 'the', 'cat']\n",
      "\n",
      "GATSentenceClassifier's architecture has been set\n",
      "embedding_dim   :  16\n",
      "heads           :  2\n",
      "hidden_channels :  16\n",
      "num_classes     :  3\n",
      "Layer setup     : GATConv layer 1\n",
      "Layer setup     : GATConv layer 2\n",
      "Layer setup     : global mean pool\n",
      "Layer setup     : linear (identity)\n",
      "Optimizer setup : Adam : lr = 0.15\n",
      "\n",
      "Beginning GATSentenceClassifier training...\n",
      "Epoch 0, loss 175.4142\n",
      "Epoch 10, loss 29.9136\n",
      "Epoch 20, loss 36.4591\n",
      "Epoch 30, loss 45.3052\n",
      "Epoch 40, loss 50.5475\n",
      "Epoch 50, loss 40.0001\n",
      "Epoch 60, loss 30.6987\n",
      "Epoch 70, loss 54.5277\n",
      "Epoch 80, loss 29.3760\n",
      "Epoch 90, loss 32.2518\n",
      "\n",
      "GTASentenceClassifier accuracy report\n",
      "num correctly predicted :  8\n",
      "num total               :  20\n",
      "accuracy                :   0.400\n",
      "accuracy (percent)      :  40.0%\n"
     ]
    }
   ],
   "source": [
    "# Run this cell, modifying only the parameters indicated\n",
    "\n",
    "# These hyperparameters may be modified\n",
    "EPOCHS = 100\n",
    "LR = 0.15\n",
    "TEST_SIZE = 0.5\n",
    "\n",
    "# Do not modify the lines below this comment\n",
    "tokenized, labels, word2idx = get_tokenized_sentences_and_labels()\n",
    "np.random.seed(0)\n",
    "embedding = torch.tensor(np.random.rand(9, 16)).float()\n",
    "\n",
    "tokenized_train, tokenized_test, labels_train, labels_test = util_get_train_test_split(\n",
    "    tokenized, \n",
    "    labels, \n",
    "    test_size=TEST_SIZE, \n",
    "    show=True,\n",
    ")\n",
    "model = util_get_trained_GAT(\n",
    "    tokenized_train=tokenized_train, \n",
    "    labels_train=labels_train,\n",
    "    lr=LR,\n",
    "    epochs=EPOCHS,\n",
    "    show=True,\n",
    ")\n",
    "labels_predicted = model.evaluate(\n",
    "    tokenized=tokenized_test, \n",
    "    labels_true=labels_test, \n",
    "    show=True,\n",
    ")"
   ]
  },
  {
   "cell_type": "markdown",
   "id": "92a429d6-45a7-42b8-afad-fc0083bda62f",
   "metadata": {},
   "source": [
    "## 5.9 <font size=3> [2 pts] Analysis"
   ]
  },
  {
   "cell_type": "markdown",
   "id": "44c8ec3d-0a58-4a9d-9f52-74d929723608",
   "metadata": {},
   "source": [
    "**Question 1:** Concerning the *learning rate* hyperparameter, which of the following statements is most accurate?"
   ]
  },
  {
   "cell_type": "code",
   "execution_count": 98,
   "id": "aa320805-8fbd-4c8c-8e87-a87c3af80c21",
   "metadata": {},
   "outputs": [],
   "source": [
    "def part_5_q1_response() -> str:\n",
    "    \"\"\"\n",
    "    return\n",
    "                  str        string that best answers the question\n",
    "    \"\"\"\n",
    "    \n",
    "    #return \"The more the learning rate is increased, the better the resulting trained model will be in terms of accuracy\"\n",
    "    #return \"The more the learning rate is increased, the worse the resulting trained model will be in terms of accuracy\"\n",
    "    #return \"No matter the learning rate, the loss will always decrease from one epoch to the next\"\n",
    "    #return \"No matter the learning rate, the loss will always increase from one epoch to the next\"\n",
    "    #return \"The value of the ideal learning rate for the GAT as we have set it up is at least 0.25\"\n",
    "    return \"The value of the ideal learning rate for the GAT as we have set it up is less than 0.25\"\n",
    "#     return \"Yo\""
   ]
  },
  {
   "cell_type": "code",
   "execution_count": null,
   "id": "562abcbe",
   "metadata": {},
   "outputs": [],
   "source": []
  }
 ],
 "metadata": {
  "kernelspec": {
   "display_name": "Python 3 (ipykernel)",
   "language": "python",
   "name": "python3"
  },
  "language_info": {
   "codemirror_mode": {
    "name": "ipython",
    "version": 3
   },
   "file_extension": ".py",
   "mimetype": "text/x-python",
   "name": "python",
   "nbconvert_exporter": "python",
   "pygments_lexer": "ipython3",
   "version": "3.9.12"
  }
 },
 "nbformat": 4,
 "nbformat_minor": 5
}
